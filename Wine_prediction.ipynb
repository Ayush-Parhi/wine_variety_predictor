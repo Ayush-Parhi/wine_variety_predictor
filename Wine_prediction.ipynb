{
  "nbformat": 4,
  "nbformat_minor": 0,
  "metadata": {
    "colab": {
      "name": "Wine prediction.ipynb",
      "provenance": []
    },
    "kernelspec": {
      "name": "python3",
      "display_name": "Python 3"
    },
    "accelerator": "GPU"
  },
  "cells": [
    {
      "cell_type": "markdown",
      "metadata": {
        "id": "d1pYrdcjLMin",
        "colab_type": "text"
      },
      "source": [
        "# Importing Essential libraries"
      ]
    },
    {
      "cell_type": "code",
      "metadata": {
        "id": "g5k_BI2Suq5Z",
        "colab_type": "code",
        "colab": {
          "base_uri": "https://localhost:8080/",
          "height": 72
        },
        "outputId": "5e93656d-a197-41b7-8a83-6275c8a3e3cd"
      },
      "source": [
        "import numpy as np\n",
        "import pandas as pd\n",
        "import matplotlib.pyplot as plt\n",
        "import matplotlib.style as style\n",
        "import seaborn as sns\n",
        "from math import ceil\n",
        "import os\n",
        "import tensorflow as tf"
      ],
      "execution_count": 1,
      "outputs": [
        {
          "output_type": "stream",
          "text": [
            "/usr/local/lib/python3.6/dist-packages/statsmodels/tools/_testing.py:19: FutureWarning: pandas.util.testing is deprecated. Use the functions in the public API at pandas.testing instead.\n",
            "  import pandas.util.testing as tm\n"
          ],
          "name": "stderr"
        }
      ]
    },
    {
      "cell_type": "markdown",
      "metadata": {
        "id": "Y1klBnNpLako",
        "colab_type": "text"
      },
      "source": [
        "# Reading the dataset"
      ]
    },
    {
      "cell_type": "code",
      "metadata": {
        "id": "eVLbWi3M29xT",
        "colab_type": "code",
        "colab": {}
      },
      "source": [
        "df = pd.read_csv(\"train.csv\")"
      ],
      "execution_count": 0,
      "outputs": []
    },
    {
      "cell_type": "code",
      "metadata": {
        "id": "9a8N42pc3DOz",
        "colab_type": "code",
        "outputId": "6b17c843-7d37-4bd1-cf73-61ec79579dba",
        "colab": {
          "base_uri": "https://localhost:8080/",
          "height": 539
        }
      },
      "source": [
        "df.head()"
      ],
      "execution_count": 3,
      "outputs": [
        {
          "output_type": "execute_result",
          "data": {
            "text/html": [
              "<div>\n",
              "<style scoped>\n",
              "    .dataframe tbody tr th:only-of-type {\n",
              "        vertical-align: middle;\n",
              "    }\n",
              "\n",
              "    .dataframe tbody tr th {\n",
              "        vertical-align: top;\n",
              "    }\n",
              "\n",
              "    .dataframe thead th {\n",
              "        text-align: right;\n",
              "    }\n",
              "</style>\n",
              "<table border=\"1\" class=\"dataframe\">\n",
              "  <thead>\n",
              "    <tr style=\"text-align: right;\">\n",
              "      <th></th>\n",
              "      <th>user_name</th>\n",
              "      <th>country</th>\n",
              "      <th>review_title</th>\n",
              "      <th>review_description</th>\n",
              "      <th>designation</th>\n",
              "      <th>points</th>\n",
              "      <th>price</th>\n",
              "      <th>province</th>\n",
              "      <th>region_1</th>\n",
              "      <th>region_2</th>\n",
              "      <th>winery</th>\n",
              "      <th>variety</th>\n",
              "    </tr>\n",
              "  </thead>\n",
              "  <tbody>\n",
              "    <tr>\n",
              "      <th>0</th>\n",
              "      <td>NaN</td>\n",
              "      <td>Australia</td>\n",
              "      <td>Andrew Peace 2007 Peace Family Vineyard Chardo...</td>\n",
              "      <td>Classic Chardonnay aromas of apple, pear and h...</td>\n",
              "      <td>Peace Family Vineyard</td>\n",
              "      <td>83</td>\n",
              "      <td>10.0</td>\n",
              "      <td>Australia Other</td>\n",
              "      <td>South Eastern Australia</td>\n",
              "      <td>NaN</td>\n",
              "      <td>Andrew Peace</td>\n",
              "      <td>Chardonnay</td>\n",
              "    </tr>\n",
              "    <tr>\n",
              "      <th>1</th>\n",
              "      <td>@wawinereport</td>\n",
              "      <td>US</td>\n",
              "      <td>North by Northwest 2014 Red (Columbia Valley (...</td>\n",
              "      <td>This wine is near equal parts Syrah and Merlot...</td>\n",
              "      <td>NaN</td>\n",
              "      <td>89</td>\n",
              "      <td>15.0</td>\n",
              "      <td>Washington</td>\n",
              "      <td>Columbia Valley (WA)</td>\n",
              "      <td>Columbia Valley</td>\n",
              "      <td>North by Northwest</td>\n",
              "      <td>Red Blend</td>\n",
              "    </tr>\n",
              "    <tr>\n",
              "      <th>2</th>\n",
              "      <td>NaN</td>\n",
              "      <td>Italy</td>\n",
              "      <td>Renato Ratti 2007 Conca  (Barolo)</td>\n",
              "      <td>Barolo Conca opens with inky dark concentratio...</td>\n",
              "      <td>Conca</td>\n",
              "      <td>94</td>\n",
              "      <td>80.0</td>\n",
              "      <td>Piedmont</td>\n",
              "      <td>Barolo</td>\n",
              "      <td>NaN</td>\n",
              "      <td>Renato Ratti</td>\n",
              "      <td>Nebbiolo</td>\n",
              "    </tr>\n",
              "    <tr>\n",
              "      <th>3</th>\n",
              "      <td>@vossroger</td>\n",
              "      <td>France</td>\n",
              "      <td>Domaine l'Ancienne Cure 2010 L'Abbaye White (B...</td>\n",
              "      <td>It's impressive what a small addition of Sauvi...</td>\n",
              "      <td>L'Abbaye</td>\n",
              "      <td>87</td>\n",
              "      <td>22.0</td>\n",
              "      <td>Southwest France</td>\n",
              "      <td>Bergerac Sec</td>\n",
              "      <td>NaN</td>\n",
              "      <td>Domaine l'Ancienne Cure</td>\n",
              "      <td>Bordeaux-style White Blend</td>\n",
              "    </tr>\n",
              "    <tr>\n",
              "      <th>4</th>\n",
              "      <td>@vossroger</td>\n",
              "      <td>France</td>\n",
              "      <td>Château du Cèdre 2012 Le Cèdre Vintage Malbec ...</td>\n",
              "      <td>This ripe, sweet wine is rich and full of drie...</td>\n",
              "      <td>Le Cèdre Vintage</td>\n",
              "      <td>88</td>\n",
              "      <td>33.0</td>\n",
              "      <td>France Other</td>\n",
              "      <td>Vin de Liqueur</td>\n",
              "      <td>NaN</td>\n",
              "      <td>Château du Cèdre</td>\n",
              "      <td>Malbec</td>\n",
              "    </tr>\n",
              "  </tbody>\n",
              "</table>\n",
              "</div>"
            ],
            "text/plain": [
              "       user_name  ...                     variety\n",
              "0            NaN  ...                  Chardonnay\n",
              "1  @wawinereport  ...                   Red Blend\n",
              "2            NaN  ...                    Nebbiolo\n",
              "3     @vossroger  ...  Bordeaux-style White Blend\n",
              "4     @vossroger  ...                      Malbec\n",
              "\n",
              "[5 rows x 12 columns]"
            ]
          },
          "metadata": {
            "tags": []
          },
          "execution_count": 3
        }
      ]
    },
    {
      "cell_type": "markdown",
      "metadata": {
        "id": "IZlG8OEzLim8",
        "colab_type": "text"
      },
      "source": [
        "# Analysing the dataset"
      ]
    },
    {
      "cell_type": "code",
      "metadata": {
        "id": "qICQ33Tj-eXt",
        "colab_type": "code",
        "outputId": "18a08f35-ee28-4d98-9d83-a442ec3860d6",
        "colab": {
          "base_uri": "https://localhost:8080/",
          "height": 451
        }
      },
      "source": [
        "df.info()\n",
        "print()\n",
        "print(df.shape)\n",
        "print(df.columns)"
      ],
      "execution_count": 4,
      "outputs": [
        {
          "output_type": "stream",
          "text": [
            "<class 'pandas.core.frame.DataFrame'>\n",
            "RangeIndex: 82657 entries, 0 to 82656\n",
            "Data columns (total 12 columns):\n",
            " #   Column              Non-Null Count  Dtype  \n",
            "---  ------              --------------  -----  \n",
            " 0   user_name           63264 non-null  object \n",
            " 1   country             82622 non-null  object \n",
            " 2   review_title        82657 non-null  object \n",
            " 3   review_description  82657 non-null  object \n",
            " 4   designation         59010 non-null  object \n",
            " 5   points              82657 non-null  int64  \n",
            " 6   price               77088 non-null  float64\n",
            " 7   province            82622 non-null  object \n",
            " 8   region_1            69903 non-null  object \n",
            " 9   region_2            35949 non-null  object \n",
            " 10  winery              82657 non-null  object \n",
            " 11  variety             82657 non-null  object \n",
            "dtypes: float64(1), int64(1), object(10)\n",
            "memory usage: 7.6+ MB\n",
            "\n",
            "(82657, 12)\n",
            "Index(['user_name', 'country', 'review_title', 'review_description',\n",
            "       'designation', 'points', 'price', 'province', 'region_1', 'region_2',\n",
            "       'winery', 'variety'],\n",
            "      dtype='object')\n"
          ],
          "name": "stdout"
        }
      ]
    },
    {
      "cell_type": "code",
      "metadata": {
        "id": "2_sRYng5YkCY",
        "colab_type": "code",
        "outputId": "41b69b51-3332-41f0-f3ee-cb57b50d08b0",
        "colab": {
          "base_uri": "https://localhost:8080/",
          "height": 300
        }
      },
      "source": [
        "df.describe()"
      ],
      "execution_count": 5,
      "outputs": [
        {
          "output_type": "execute_result",
          "data": {
            "text/html": [
              "<div>\n",
              "<style scoped>\n",
              "    .dataframe tbody tr th:only-of-type {\n",
              "        vertical-align: middle;\n",
              "    }\n",
              "\n",
              "    .dataframe tbody tr th {\n",
              "        vertical-align: top;\n",
              "    }\n",
              "\n",
              "    .dataframe thead th {\n",
              "        text-align: right;\n",
              "    }\n",
              "</style>\n",
              "<table border=\"1\" class=\"dataframe\">\n",
              "  <thead>\n",
              "    <tr style=\"text-align: right;\">\n",
              "      <th></th>\n",
              "      <th>points</th>\n",
              "      <th>price</th>\n",
              "    </tr>\n",
              "  </thead>\n",
              "  <tbody>\n",
              "    <tr>\n",
              "      <th>count</th>\n",
              "      <td>82657.000000</td>\n",
              "      <td>77088.000000</td>\n",
              "    </tr>\n",
              "    <tr>\n",
              "      <th>mean</th>\n",
              "      <td>88.544564</td>\n",
              "      <td>36.922232</td>\n",
              "    </tr>\n",
              "    <tr>\n",
              "      <th>std</th>\n",
              "      <td>3.099649</td>\n",
              "      <td>43.698346</td>\n",
              "    </tr>\n",
              "    <tr>\n",
              "      <th>min</th>\n",
              "      <td>80.000000</td>\n",
              "      <td>4.000000</td>\n",
              "    </tr>\n",
              "    <tr>\n",
              "      <th>25%</th>\n",
              "      <td>86.000000</td>\n",
              "      <td>18.000000</td>\n",
              "    </tr>\n",
              "    <tr>\n",
              "      <th>50%</th>\n",
              "      <td>88.000000</td>\n",
              "      <td>27.000000</td>\n",
              "    </tr>\n",
              "    <tr>\n",
              "      <th>75%</th>\n",
              "      <td>91.000000</td>\n",
              "      <td>45.000000</td>\n",
              "    </tr>\n",
              "    <tr>\n",
              "      <th>max</th>\n",
              "      <td>100.000000</td>\n",
              "      <td>3300.000000</td>\n",
              "    </tr>\n",
              "  </tbody>\n",
              "</table>\n",
              "</div>"
            ],
            "text/plain": [
              "             points         price\n",
              "count  82657.000000  77088.000000\n",
              "mean      88.544564     36.922232\n",
              "std        3.099649     43.698346\n",
              "min       80.000000      4.000000\n",
              "25%       86.000000     18.000000\n",
              "50%       88.000000     27.000000\n",
              "75%       91.000000     45.000000\n",
              "max      100.000000   3300.000000"
            ]
          },
          "metadata": {
            "tags": []
          },
          "execution_count": 5
        }
      ]
    },
    {
      "cell_type": "markdown",
      "metadata": {
        "id": "R4DsCZHULmxN",
        "colab_type": "text"
      },
      "source": [
        "# Feature Extraction and Feature Engineering"
      ]
    },
    {
      "cell_type": "code",
      "metadata": {
        "id": "XgBkobt5YxIe",
        "colab_type": "code",
        "outputId": "a4a6379d-bf25-4083-bbf2-b20ac567ea4c",
        "colab": {
          "base_uri": "https://localhost:8080/",
          "height": 121
        }
      },
      "source": [
        "import re\n",
        "yearSearch = []\n",
        "\n",
        "for value in df[\"review_title\"]:\n",
        "  regexresult = re.search(r'19\\d{2}|20\\d{2}', value)\n",
        "  if regexresult:\n",
        "    yearSearch.append(regexresult.group())\n",
        "  else:\n",
        "    yearSearch.append(None)\n",
        "\n",
        "df['year'] = yearSearch\n",
        "\n",
        "print(\"We extracted %d years from the wine titles and %d did not have a year.\" %(len(df[df['year'].notna()]), len(df[df['year'].isna()].index)))\n",
        "df['year'].describe()\n"
      ],
      "execution_count": 6,
      "outputs": [
        {
          "output_type": "stream",
          "text": [
            "We extracted 80129 years from the wine titles and 2528 did not have a year.\n"
          ],
          "name": "stdout"
        },
        {
          "output_type": "execute_result",
          "data": {
            "text/plain": [
              "count     80129\n",
              "unique       38\n",
              "top        2012\n",
              "freq      10379\n",
              "Name: year, dtype: object"
            ]
          },
          "metadata": {
            "tags": []
          },
          "execution_count": 6
        }
      ]
    },
    {
      "cell_type": "code",
      "metadata": {
        "id": "7RmCMftTbQ-r",
        "colab_type": "code",
        "outputId": "5dd78e1e-4054-4af7-fe9c-0c4a492aad31",
        "colab": {
          "base_uri": "https://localhost:8080/",
          "height": 208
        }
      },
      "source": [
        "df_years = df\n",
        "df_years = df_years.dropna(subset = ['year'])\n",
        "print(\"Removed \" + str((df.shape[0] - df_years.shape[0])) + \" rows with empty year values.\" + \"\\n\")\n",
        "df_years = df_years['year'].astype(int)\n",
        "print(df_years.describe())\n",
        "\n"
      ],
      "execution_count": 7,
      "outputs": [
        {
          "output_type": "stream",
          "text": [
            "Removed 2528 rows with empty year values.\n",
            "\n",
            "count    80129.000000\n",
            "mean      2010.699410\n",
            "std          3.731868\n",
            "min       1904.000000\n",
            "25%       2009.000000\n",
            "50%       2011.000000\n",
            "75%       2013.000000\n",
            "max       2017.000000\n",
            "Name: year, dtype: float64\n"
          ],
          "name": "stdout"
        }
      ]
    },
    {
      "cell_type": "markdown",
      "metadata": {
        "id": "hBJ2TKDHL5TZ",
        "colab_type": "text"
      },
      "source": [
        "# Data Visualization"
      ]
    },
    {
      "cell_type": "code",
      "metadata": {
        "id": "ruIAEM-gePj4",
        "colab_type": "code",
        "outputId": "b7a5460c-90b2-4d84-e9ec-15e47ceb8198",
        "colab": {
          "base_uri": "https://localhost:8080/",
          "height": 648
        }
      },
      "source": [
        "# Get label frequencies in descending order\n",
        "label_freq = df['variety'].apply(lambda s: str(s)).explode().value_counts().sort_values(ascending=False)\n",
        "\n",
        "# Bar plot\n",
        "style.use(\"fivethirtyeight\")\n",
        "plt.figure(figsize=(12,10))\n",
        "sns.barplot(y=label_freq.index.values, x=label_freq, order=label_freq.iloc[:15].index)\n",
        "plt.title(\"Grape frequency\", fontsize=14)\n",
        "plt.xlabel(\"\")\n",
        "plt.xticks(fontsize=12)\n",
        "plt.yticks(fontsize=12)\n",
        "plt.show()"
      ],
      "execution_count": 8,
      "outputs": [
        {
          "output_type": "display_data",
          "data": {
            "image/png": "[encoded data removed]",
            "text/plain": [
              "<Figure size 864x720 with 1 Axes>"
            ]
          },
          "metadata": {
            "tags": []
          }
        }
      ]
    },
    {
      "cell_type": "code",
      "metadata": {
        "id": "HzVA55eefbvL",
        "colab_type": "code",
        "outputId": "e729f5db-3624-44be-8f33-cb7ffa4e772b",
        "colab": {
          "base_uri": "https://localhost:8080/",
          "height": 173
        }
      },
      "source": [
        "df_wine_classifier = df[[\"review_description\", 'year', 'variety', 'country', 'province']]\n",
        "\n",
        "# Finding the missing values in the data \n",
        "print(df_wine_classifier.isnull().sum())\n",
        "print()\n",
        "\n",
        "\n",
        "\n",
        "\n",
        "#If we're missing important values, remove the row\n",
        "dfWineClassifier=df_wine_classifier.dropna(subset=['review_description', 'variety'])\n",
        "print('Removed ' + str(df.shape[0]-df_wine_classifier.shape[0]) + ' rows with empty values.' + \"\\n\")\n"
      ],
      "execution_count": 9,
      "outputs": [
        {
          "output_type": "stream",
          "text": [
            "review_description       0\n",
            "year                  2528\n",
            "variety                  0\n",
            "country                 35\n",
            "province                35\n",
            "dtype: int64\n",
            "\n",
            "Removed 0 rows with empty values.\n",
            "\n"
          ],
          "name": "stdout"
        }
      ]
    },
    {
      "cell_type": "code",
      "metadata": {
        "id": "cK1_RS0XPx2e",
        "colab_type": "code",
        "colab": {
          "base_uri": "https://localhost:8080/",
          "height": 342
        },
        "outputId": "b3b9281a-a747-486d-f9d9-99ab6dfb1011"
      },
      "source": [
        "wineries = df[[\"winery\", \"points\", \"price\"]].groupby(by=\"winery\").mean()\n",
        "points = wineries[\"points\"]\n",
        "prices = wineries[\"price\"]\n",
        "style.use(\"fivethirtyeight\")\n",
        "plt.plot(points, prices, \"r.\")\n",
        "plt.title(\"Points and prices in wineries\")\n",
        "plt.xlabel(\"Points\")\n",
        "plt.ylabel(\"Prices\")"
      ],
      "execution_count": 43,
      "outputs": [
        {
          "output_type": "execute_result",
          "data": {
            "text/plain": [
              "Text(0, 0.5, 'Prices')"
            ]
          },
          "metadata": {
            "tags": []
          },
          "execution_count": 43
        },
        {
          "output_type": "display_data",
          "data": {
            "image/png": "[encoded data removed]",
            "text/plain": [
              "<Figure size 432x288 with 1 Axes>"
            ]
          },
          "metadata": {
            "tags": []
          }
        }
      ]
    },
    {
      "cell_type": "code",
      "metadata": {
        "id": "VldbOcXfPxkx",
        "colab_type": "code",
        "colab": {
          "base_uri": "https://localhost:8080/",
          "height": 299
        },
        "outputId": "bcd3c0ee-53e1-4f90-fde1-59af53087931"
      },
      "source": [
        "priceForPoint = wineries.groupby(by=\"points\").mean()\n",
        "sns.boxplot(priceForPoint)"
      ],
      "execution_count": 44,
      "outputs": [
        {
          "output_type": "execute_result",
          "data": {
            "text/plain": [
              "<matplotlib.axes._subplots.AxesSubplot at 0x7f02422867b8>"
            ]
          },
          "metadata": {
            "tags": []
          },
          "execution_count": 44
        },
        {
          "output_type": "display_data",
          "data": {
            "image/png": "[encoded data removed]",
            "text/plain": [
              "<Figure size 432x288 with 1 Axes>"
            ]
          },
          "metadata": {
            "tags": []
          }
        }
      ]
    },
    {
      "cell_type": "code",
      "metadata": {
        "id": "DvYWrgFHPxZ0",
        "colab_type": "code",
        "colab": {
          "base_uri": "https://localhost:8080/",
          "height": 321
        },
        "outputId": "36eb1275-3566-478d-df21-519f445ce0e7"
      },
      "source": [
        "priceForPoint = priceForPoint[\"price\"]\n",
        "qR = priceForPoint.quantile(0.75)-priceForPoint.quantile(0.25)\n",
        "delValues = []\n",
        "for i in priceForPoint.index:\n",
        "    if( priceForPoint[i]<priceForPoint.quantile(0.25)-1.5*qR or priceForPoint[i]>priceForPoint.quantile(0.75)+1.5*qR ):\n",
        "        delValues.append(i)\n",
        "priceForPoint = priceForPoint.drop( labels=delValues )\n",
        "delValues = []\n",
        "for i in priceForPoint.index:\n",
        "    if( priceForPoint[i]<priceForPoint.quantile(0.25)-1.5*qR or priceForPoint[i]>priceForPoint.quantile(0.75)+1.5*qR ):\n",
        "        delValues.append(i)\n",
        "priceForPoint = priceForPoint.drop( labels=delValues )\n",
        "delValues = []\n",
        "for i in priceForPoint.index:\n",
        "    if( priceForPoint[i]<priceForPoint.quantile(0.25)-1.5*qR or priceForPoint[i]>priceForPoint.quantile(0.75)+1.5*qR ):\n",
        "        delValues.append(i)\n",
        "priceForPoint = priceForPoint.drop( labels=delValues )\n",
        "\n",
        "sns.boxplot(priceForPoint)"
      ],
      "execution_count": 45,
      "outputs": [
        {
          "output_type": "execute_result",
          "data": {
            "text/plain": [
              "<matplotlib.axes._subplots.AxesSubplot at 0x7f024209f208>"
            ]
          },
          "metadata": {
            "tags": []
          },
          "execution_count": 45
        },
        {
          "output_type": "display_data",
          "data": {
            "image/png": "[encoded data removed]",
            "text/plain": [
              "<Figure size 432x288 with 1 Axes>"
            ]
          },
          "metadata": {
            "tags": []
          }
        }
      ]
    },
    {
      "cell_type": "code",
      "metadata": {
        "id": "6U3Y4Hl-PxOb",
        "colab_type": "code",
        "colab": {
          "base_uri": "https://localhost:8080/",
          "height": 299
        },
        "outputId": "4ae2bf42-2186-4eac-a4ec-12951e5e4073"
      },
      "source": [
        "plt.plot( priceForPoint.index, priceForPoint, '.r' )"
      ],
      "execution_count": 46,
      "outputs": [
        {
          "output_type": "execute_result",
          "data": {
            "text/plain": [
              "[<matplotlib.lines.Line2D at 0x7f0242347e10>]"
            ]
          },
          "metadata": {
            "tags": []
          },
          "execution_count": 46
        },
        {
          "output_type": "display_data",
          "data": {
            "image/png": "[encoded data removed]",
            "text/plain": [
              "<Figure size 432x288 with 1 Axes>"
            ]
          },
          "metadata": {
            "tags": []
          }
        }
      ]
    },
    {
      "cell_type": "code",
      "metadata": {
        "id": "NEqUbiMyPwjv",
        "colab_type": "code",
        "colab": {
          "base_uri": "https://localhost:8080/",
          "height": 712
        },
        "outputId": "9dd14ac8-0278-4462-f30f-fd8ef62271ce"
      },
      "source": [
        "countries = df[ [\"country\", \"winery\"] ].groupby(by=\"country\").count().sort_values(by=\"winery\")[::-1]\n",
        "print(countries)"
      ],
      "execution_count": 48,
      "outputs": [
        {
          "output_type": "stream",
          "text": [
            "                winery\n",
            "country               \n",
            "US               38573\n",
            "France           15948\n",
            "Italy             9112\n",
            "Portugal          3197\n",
            "Chile             2891\n",
            "Spain             2755\n",
            "Argentina         2570\n",
            "Austria           1892\n",
            "Germany           1573\n",
            "New Zealand       1121\n",
            "Australia         1028\n",
            "South Africa       727\n",
            "Israel             320\n",
            "Canada             176\n",
            "Greece             139\n",
            "Bulgaria            93\n",
            "Romania             80\n",
            "England             62\n",
            "Slovenia            42\n",
            "Mexico              38\n",
            "Hungary             35\n",
            "Moldova             35\n",
            "Uruguay             33\n",
            "Turkey              33\n",
            "Lebanon             28\n",
            "Brazil              28\n",
            "Morocco             21\n",
            "Georgia             12\n",
            "Croatia             12\n",
            "Ukraine             11\n",
            "Peru                 8\n",
            "Cyprus               6\n",
            "Macedonia            5\n",
            "Luxembourg           5\n",
            "Switzerland          5\n",
            "Serbia               4\n",
            "Czech Republic       3\n",
            "India                1\n"
          ],
          "name": "stdout"
        }
      ]
    },
    {
      "cell_type": "code",
      "metadata": {
        "id": "tex5viliQpNE",
        "colab_type": "code",
        "colab": {
          "base_uri": "https://localhost:8080/",
          "height": 34
        },
        "outputId": "fdf79a56-36e4-4b3d-d313-1d4fa873024f"
      },
      "source": [
        "print( \"Number of countries: \"+str(len(countries)) )"
      ],
      "execution_count": 49,
      "outputs": [
        {
          "output_type": "stream",
          "text": [
            "Number of countries: 38\n"
          ],
          "name": "stdout"
        }
      ]
    },
    {
      "cell_type": "code",
      "metadata": {
        "id": "erD2j9aZQo4t",
        "colab_type": "code",
        "colab": {
          "base_uri": "https://localhost:8080/",
          "height": 299
        },
        "outputId": "59c0ba32-f623-48e1-d5ef-2c56539b2eee"
      },
      "source": [
        "sns.boxplot(countries)"
      ],
      "execution_count": 50,
      "outputs": [
        {
          "output_type": "execute_result",
          "data": {
            "text/plain": [
              "<matplotlib.axes._subplots.AxesSubplot at 0x7f0243498e10>"
            ]
          },
          "metadata": {
            "tags": []
          },
          "execution_count": 50
        },
        {
          "output_type": "display_data",
          "data": {
            "image/png": "[encoded data removed]",
            "text/plain": [
              "<Figure size 432x288 with 1 Axes>"
            ]
          },
          "metadata": {
            "tags": []
          }
        }
      ]
    },
    {
      "cell_type": "code",
      "metadata": {
        "id": "Fq5LWs77hyPN",
        "colab_type": "code",
        "outputId": "27c42852-b3f8-4502-a480-0005fb918c9c",
        "colab": {
          "base_uri": "https://localhost:8080/",
          "height": 193
        }
      },
      "source": [
        "RARE_CUTOFF = 700 # It must have this many examples of the grape variety, otherwise it's \"other.\"\n",
        "\n",
        "# Create a list of rare labels\n",
        "rare = list(label_freq[label_freq<RARE_CUTOFF].index)\n",
        "# print(\"We will be ignoring these rare labels: \\n\", rare)\n",
        "\n",
        "\n",
        "# Transform the rare ones to just \"Other\"\n",
        "df_wine_classifier['variety'] = df_wine_classifier['variety'].apply(lambda s: str(s) if s not in rare else 'Other')\n",
        "\n",
        "label_words = list(label_freq[label_freq>=RARE_CUTOFF].index)\n",
        "label_words.append('Other')\n",
        "print(label_words)\n",
        "\n",
        "num_labels = len(label_words)\n",
        "print(\"\\n\"  + str(num_labels) + \" different categories.\")\n"
      ],
      "execution_count": 10,
      "outputs": [
        {
          "output_type": "stream",
          "text": [
            "['Pinot Noir', 'Chardonnay', 'Cabernet Sauvignon', 'Red Blend', 'Bordeaux-style Red Blend', 'Riesling', 'Sauvignon Blanc', 'Syrah', 'Rosé', 'Merlot', 'Nebbiolo', 'Zinfandel', 'Sangiovese', 'Malbec', 'Portuguese Red', 'White Blend', 'Sparkling Blend', 'Tempranillo', 'Rhône-style Red Blend', 'Pinot Gris', 'Champagne Blend', 'Cabernet Franc', 'Grüner Veltliner', 'Portuguese White', 'Pinot Grigio', 'Bordeaux-style White Blend', 'Gewürztraminer', 'Gamay', 'Other']\n",
            "\n",
            "29 different categories.\n"
          ],
          "name": "stdout"
        },
        {
          "output_type": "stream",
          "text": [
            "/usr/local/lib/python3.6/dist-packages/ipykernel_launcher.py:9: SettingWithCopyWarning: \n",
            "A value is trying to be set on a copy of a slice from a DataFrame.\n",
            "Try using .loc[row_indexer,col_indexer] = value instead\n",
            "\n",
            "See the caveats in the documentation: https://pandas.pydata.org/pandas-docs/stable/user_guide/indexing.html#returning-a-view-versus-a-copy\n",
            "  if __name__ == '__main__':\n"
          ],
          "name": "stderr"
        }
      ]
    },
    {
      "cell_type": "code",
      "metadata": {
        "id": "-1YOfpSIjZ8V",
        "colab_type": "code",
        "outputId": "aeef639a-2685-4c34-d298-6d16a21c18b7",
        "colab": {
          "base_uri": "https://localhost:8080/",
          "height": 245
        }
      },
      "source": [
        "for i in range(1,5):\n",
        "    print(df_wine_classifier['variety'].iloc[i])\n",
        "    print(df_wine_classifier['review_description'].iloc[i])\n",
        "    print()"
      ],
      "execution_count": 11,
      "outputs": [
        {
          "output_type": "stream",
          "text": [
            "Red Blend\n",
            "This wine is near equal parts Syrah and Merlot with the balance Cabernet Sauvignon. Aromas of blue fruit, vanilla, cherry and herb lead to full-bodied pit-fruit flavors that bring a sense of deliciousness that is hard to resist.\n",
            "\n",
            "Nebbiolo\n",
            "Barolo Conca opens with inky dark concentration and soothing aromas of black fruit, spice, cola, plum, prune and dried lavender buds. The nose presents those ethereal and delicate aromas, but in the mouth, it delivers thicker flavors of chocolate and mocha. Drink after 2018.\n",
            "\n",
            "Bordeaux-style White Blend\n",
            "It's impressive what a small addition of Sauvignon Gris and Muscadelle can do to a Sauvignon-Sémillon blend—it turns this into an exotic wine, with spice and lychee flavors.\n",
            "\n",
            "Malbec\n",
            "This ripe, sweet wine is rich and full of dried and fresh fruit flavors. It is spicy, with a touch of spirit on the palate as well as bold black-plum fruit, dense tannins and a sweet aftertaste. Drink from 2017.\n",
            "\n"
          ],
          "name": "stdout"
        }
      ]
    },
    {
      "cell_type": "markdown",
      "metadata": {
        "id": "I0NyrdriME__",
        "colab_type": "text"
      },
      "source": [
        "# Data Preprocessing"
      ]
    },
    {
      "cell_type": "code",
      "metadata": {
        "id": "cy2FFntWj5Ec",
        "colab_type": "code",
        "outputId": "01b63328-200e-493d-fb0a-84d42713fd4c",
        "colab": {
          "base_uri": "https://localhost:8080/",
          "height": 139
        }
      },
      "source": [
        "# length of dictionary\n",
        "NUM_WORDS = 4000\n",
        "\n",
        "# Length of each review\n",
        "SEQ_LEN = 256\n",
        "\n",
        "#create tokenizer for our data\n",
        "tokenizer = tf.keras.preprocessing.text.Tokenizer(num_words=NUM_WORDS, oov_token='<UNK>')\n",
        "tokenizer.fit_on_texts(df_wine_classifier['review_description'])\n",
        "\n",
        "#convert text data to numerical indexes\n",
        "wine_seqs=tokenizer.texts_to_sequences(df_wine_classifier['review_description'])\n",
        "\n",
        "#pad data up to SEQ_LEN (note that we truncate if there are more than SEQ_LEN tokens)\n",
        "wine_seqs=tf.keras.preprocessing.sequence.pad_sequences(wine_seqs, maxlen=SEQ_LEN, padding=\"post\")\n",
        "\n",
        "print(wine_seqs)"
      ],
      "execution_count": 12,
      "outputs": [
        {
          "output_type": "stream",
          "text": [
            "[[ 395  132   18 ...    0    0    0]\n",
            " [   7    9    8 ...    0    0    0]\n",
            " [1005    1  161 ...    0    0    0]\n",
            " ...\n",
            " [   7    8    4 ...    0    0    0]\n",
            " [  41  389    9 ...    0    0    0]\n",
            " [   4  179   40 ...    0    0    0]]\n"
          ],
          "name": "stdout"
        }
      ]
    },
    {
      "cell_type": "code",
      "metadata": {
        "id": "mAdDsa-Wk4g-",
        "colab_type": "code",
        "outputId": "6bbb407d-d1ac-49f7-fd03-72ef94bbfc57",
        "colab": {
          "base_uri": "https://localhost:8080/",
          "height": 89
        }
      },
      "source": [
        "\n",
        "wine_labels=pd.DataFrame({'variety': df_wine_classifier['variety']})\n",
        "# wine_labels=wine_labels.replace({'variety' : char2idx})\n",
        "wine_labels=wine_labels.replace(' ', '_', regex=True)\n",
        "\n",
        "wine_labels_list = []\n",
        "for item in wine_labels['variety']:\n",
        "    wine_labels_list.append(str(item))\n",
        "\n",
        "label_tokenizer = tf.keras.preprocessing.text.Tokenizer(split=' ', filters='!\"#$%&()*+,./:;<=>?@[\\\\]^`{|}~\\t\\n')\n",
        "label_tokenizer.fit_on_texts(wine_labels_list)\n",
        "\n",
        "print(len(label_words))\n",
        "print(label_tokenizer.word_index)\n",
        "\n",
        "wine_label_seq = np.array(label_tokenizer.texts_to_sequences(wine_labels_list))\n",
        "wine_label_seq.shape"
      ],
      "execution_count": 13,
      "outputs": [
        {
          "output_type": "stream",
          "text": [
            "29\n",
            "{'pinot_noir': 1, 'chardonnay': 2, 'cabernet_sauvignon': 3, 'red_blend': 4, 'bordeaux-style_red_blend': 5, 'riesling': 6, 'sauvignon_blanc': 7, 'syrah': 8, 'rosé': 9, 'merlot': 10, 'nebbiolo': 11, 'zinfandel': 12, 'sangiovese': 13, 'malbec': 14, 'portuguese_red': 15, 'white_blend': 16, 'sparkling_blend': 17, 'tempranillo': 18, 'rhône-style_red_blend': 19, 'pinot_gris': 20, 'champagne_blend': 21, 'cabernet_franc': 22, 'grüner_veltliner': 23, 'portuguese_white': 24, 'pinot_grigio': 25, 'bordeaux-style_white_blend': 26, 'gewürztraminer': 27, 'gamay': 28}\n"
          ],
          "name": "stdout"
        },
        {
          "output_type": "execute_result",
          "data": {
            "text/plain": [
              "(82657, 1)"
            ]
          },
          "metadata": {
            "tags": []
          },
          "execution_count": 13
        }
      ]
    },
    {
      "cell_type": "code",
      "metadata": {
        "id": "kkGeXGkflVSm",
        "colab_type": "code",
        "colab": {}
      },
      "source": [
        "reverse_word_index = dict([(value, key) for (key, value) in tokenizer.word_index.items()])\n",
        "\n",
        "def decode_article(text):\n",
        "    return ' '.join([reverse_word_index.get(i, '?') for i in text])\n",
        "\n",
        "\n",
        "reverse_label_index = dict([(value, key) for (key, value) in label_tokenizer.word_index.items()])\n",
        "\n",
        "def decode_label(text):\n",
        "    return ' '.join([reverse_label_index.get(i, '?') for i in text])\n",
        "\n"
      ],
      "execution_count": 0,
      "outputs": []
    },
    {
      "cell_type": "code",
      "metadata": {
        "id": "S5j6YeYdlibp",
        "colab_type": "code",
        "outputId": "2d81247f-fa5a-495c-dc45-95adcfadf128",
        "colab": {
          "base_uri": "https://localhost:8080/",
          "height": 454
        }
      },
      "source": [
        "# Demonstrate what the input looks like, how it gets encoded.\n",
        "\n",
        "test_entry=3\n",
        "\n",
        "print(decode_article(wine_seqs[test_entry]))\n",
        "print('---')\n",
        "print(wine_seqs[test_entry])\n",
        "\n",
        "print(decode_label(wine_label_seq[test_entry]))\n",
        "print('---')\n",
        "print(wine_label_seq[test_entry])\n"
      ],
      "execution_count": 15,
      "outputs": [
        {
          "output_type": "stream",
          "text": [
            "it's impressive what a small addition of sauvignon gris and <UNK> can do to a sauvignon sémillon <UNK> turns this into an exotic wine with spice and lychee flavors ? ? ? ? ? ? ? ? ? ? ? ? ? ? ? ? ? ? ? ? ? ? ? ? ? ? ? ? ? ? ? ? ? ? ? ? ? ? ? ? ? ? ? ? ? ? ? ? ? ? ? ? ? ? ? ? ? ? ? ? ? ? ? ? ? ? ? ? ? ? ? ? ? ? ? ? ? ? ? ? ? ? ? ? ? ? ? ? ? ? ? ? ? ? ? ? ? ? ? ? ? ? ? ? ? ? ? ? ? ? ? ? ? ? ? ? ? ? ? ? ? ? ? ? ? ? ? ? ? ? ? ? ? ? ? ? ? ? ? ? ? ? ? ? ? ? ? ? ? ? ? ? ? ? ? ? ? ? ? ? ? ? ? ? ? ? ? ? ? ? ? ? ? ? ? ? ? ? ? ? ? ? ? ? ? ? ? ? ? ? ? ? ? ? ? ? ? ? ? ? ? ? ? ? ? ? ? ? ? ? ? ? ? ? ? ? ? ? ? ? ? ? ? ? ? ? ?\n",
            "---\n",
            "[  24  389  451    4  509 1343    5   84  811    2    1  361  832   13\n",
            "    4   84 1230    1  852    7  114   41  376    9    6   34    2  960\n",
            "   11    0    0    0    0    0    0    0    0    0    0    0    0    0\n",
            "    0    0    0    0    0    0    0    0    0    0    0    0    0    0\n",
            "    0    0    0    0    0    0    0    0    0    0    0    0    0    0\n",
            "    0    0    0    0    0    0    0    0    0    0    0    0    0    0\n",
            "    0    0    0    0    0    0    0    0    0    0    0    0    0    0\n",
            "    0    0    0    0    0    0    0    0    0    0    0    0    0    0\n",
            "    0    0    0    0    0    0    0    0    0    0    0    0    0    0\n",
            "    0    0    0    0    0    0    0    0    0    0    0    0    0    0\n",
            "    0    0    0    0    0    0    0    0    0    0    0    0    0    0\n",
            "    0    0    0    0    0    0    0    0    0    0    0    0    0    0\n",
            "    0    0    0    0    0    0    0    0    0    0    0    0    0    0\n",
            "    0    0    0    0    0    0    0    0    0    0    0    0    0    0\n",
            "    0    0    0    0    0    0    0    0    0    0    0    0    0    0\n",
            "    0    0    0    0    0    0    0    0    0    0    0    0    0    0\n",
            "    0    0    0    0    0    0    0    0    0    0    0    0    0    0\n",
            "    0    0    0    0    0    0    0    0    0    0    0    0    0    0\n",
            "    0    0    0    0]\n",
            "bordeaux-style_white_blend\n",
            "---\n",
            "[26]\n"
          ],
          "name": "stdout"
        }
      ]
    },
    {
      "cell_type": "markdown",
      "metadata": {
        "id": "EoW1tijQMKhL",
        "colab_type": "text"
      },
      "source": [
        "# Splitting the data"
      ]
    },
    {
      "cell_type": "code",
      "metadata": {
        "id": "VhqeUPJWlmy5",
        "colab_type": "code",
        "outputId": "3774fd9b-4cee-44d2-ade6-21580206ca37",
        "colab": {
          "base_uri": "https://localhost:8080/",
          "height": 86
        }
      },
      "source": [
        "import sklearn.model_selection as sk\n",
        "# Divide into two\n",
        "X_train, X_test, y_train, y_test = sk.train_test_split(wine_seqs,\n",
        "                                                    wine_label_seq,\n",
        "                                                    test_size=0.10,\n",
        "                                                    random_state=42)\n",
        "\n",
        "print('Test: ' + str(len(X_test)) + ' Train: ' + str(len(X_train)))\n",
        "\n",
        "X_train = X_train.astype(\"float32\")\n",
        "X_test = X_test.astype(\"float32\")\n",
        "y_train = y_train.astype(\"float32\")\n",
        "y_test = y_test.astype(\"float32\")\n",
        "\n",
        "print(type(X_train), X_train.shape)\n",
        "\n",
        "\n",
        "print(X_train.shape)\n",
        "print(y_train.shape)"
      ],
      "execution_count": 20,
      "outputs": [
        {
          "output_type": "stream",
          "text": [
            "Test: 8266 Train: 74391\n",
            "<class 'numpy.ndarray'> (74391, 256)\n",
            "(74391, 256)\n",
            "(74391, 1)\n"
          ],
          "name": "stdout"
        }
      ]
    },
    {
      "cell_type": "markdown",
      "metadata": {
        "id": "ljSH0IwzMNdS",
        "colab_type": "text"
      },
      "source": [
        "# Model Building"
      ]
    },
    {
      "cell_type": "code",
      "metadata": {
        "id": "kfZJFPy-mOvj",
        "colab_type": "code",
        "outputId": "84ae116d-184e-48cb-82cb-85df1fac336f",
        "colab": {
          "base_uri": "https://localhost:8080/",
          "height": 469
        }
      },
      "source": [
        "EMBEDDING_SIZE = 256\n",
        "EMBEDDING_SIZE_2 = 64\n",
        "EMBEDDING_SIZE_3 = (num_labels+1)\n",
        "LR = 1e-5 \n",
        "\n",
        "model = tf.keras.Sequential([\n",
        "    # Add an Embedding layer expecting input vocab of a given size, and output embedding dimension of fized size we set at the top\n",
        "    tf.keras.layers.Embedding(NUM_WORDS, EMBEDDING_SIZE),\n",
        "    tf.keras.layers.Dropout(0.5),\n",
        "    tf.keras.layers.Conv1D(128, 5, activation='relu'), \n",
        "    tf.keras.layers.Dropout(0.5),\n",
        "    tf.keras.layers.GlobalMaxPooling1D(), \n",
        "    tf.keras.layers.Dropout(0.5),\n",
        "    tf.keras.layers.Dense(EMBEDDING_SIZE_2, activation='relu'),\n",
        "    tf.keras.layers.Dropout(0.5),\n",
        "    # Add a Dense layer with additional units and softmax activation.\n",
        "    # When we have multiple outputs, softmax convert outputs layers into a probability distribution.\n",
        "    tf.keras.layers.Dense(EMBEDDING_SIZE_3, activation='softmax')\n",
        "])\n",
        "\n",
        "model.summary()\n",
        "\n",
        "model.compile(optimizer='adam', loss='sparse_categorical_crossentropy', metrics=['accuracy'])"
      ],
      "execution_count": 21,
      "outputs": [
        {
          "output_type": "stream",
          "text": [
            "Model: \"sequential_1\"\n",
            "_________________________________________________________________\n",
            "Layer (type)                 Output Shape              Param #   \n",
            "=================================================================\n",
            "embedding_1 (Embedding)      (None, None, 256)         1024000   \n",
            "_________________________________________________________________\n",
            "dropout_4 (Dropout)          (None, None, 256)         0         \n",
            "_________________________________________________________________\n",
            "conv1d_1 (Conv1D)            (None, None, 128)         163968    \n",
            "_________________________________________________________________\n",
            "dropout_5 (Dropout)          (None, None, 128)         0         \n",
            "_________________________________________________________________\n",
            "global_max_pooling1d_1 (Glob (None, 128)               0         \n",
            "_________________________________________________________________\n",
            "dropout_6 (Dropout)          (None, 128)               0         \n",
            "_________________________________________________________________\n",
            "dense_2 (Dense)              (None, 64)                8256      \n",
            "_________________________________________________________________\n",
            "dropout_7 (Dropout)          (None, 64)                0         \n",
            "_________________________________________________________________\n",
            "dense_3 (Dense)              (None, 30)                1950      \n",
            "=================================================================\n",
            "Total params: 1,198,174\n",
            "Trainable params: 1,198,174\n",
            "Non-trainable params: 0\n",
            "_________________________________________________________________\n"
          ],
          "name": "stdout"
        }
      ]
    },
    {
      "cell_type": "markdown",
      "metadata": {
        "id": "c3KpTPzIMgtT",
        "colab_type": "text"
      },
      "source": [
        "# Training the model"
      ]
    },
    {
      "cell_type": "code",
      "metadata": {
        "id": "UPHkGx1BoCrW",
        "colab_type": "code",
        "outputId": "a520d066-5722-4d76-e16b-b16d7a44689c",
        "colab": {
          "base_uri": "https://localhost:8080/",
          "height": 436
        }
      },
      "source": [
        "# Directory where the checkpoints will be saved\n",
        "checkpoint_dir = '/content/checkpoints/classifer_training_checkpoints.h5'\n",
        "# Name of the checkpoint files\n",
        "checkpoint_prefix = os.path.join(checkpoint_dir, \"ckpt_{epoch}\")\n",
        "\n",
        "checkpoint_callback=tf.keras.callbacks.ModelCheckpoint(\n",
        "    filepath=checkpoint_prefix,\n",
        "    monitor='accuracy',\n",
        "    save_best_only=True,\n",
        "    mode='auto',\n",
        "    save_weights_only=True)\n",
        "\n",
        "history = model.fit(X_train, y_train,\n",
        "                    batch_size = 30,\n",
        "                    epochs=10,\n",
        "                    validation_data=(X_test, y_test),\n",
        "                    validation_steps = 30,\n",
        "                   callbacks=[checkpoint_callback])\n",
        "\n",
        "loss, accuracy = model.evaluate(X_test, y_test)\n",
        "\n",
        "print(\"Loss: \", loss)\n",
        "print(\"Accuracy: \", accuracy)\n"
      ],
      "execution_count": 22,
      "outputs": [
        {
          "output_type": "stream",
          "text": [
            "Epoch 1/10\n",
            "2480/2480 [==============================] - 66s 26ms/step - loss: 2.2274 - accuracy: 0.3512 - val_loss: 1.5940 - val_accuracy: 0.5800\n",
            "Epoch 2/10\n",
            "2480/2480 [==============================] - 65s 26ms/step - loss: 1.6422 - accuracy: 0.4991 - val_loss: 1.4084 - val_accuracy: 0.6222\n",
            "Epoch 3/10\n",
            "2480/2480 [==============================] - 65s 26ms/step - loss: 1.5316 - accuracy: 0.5318 - val_loss: 1.3255 - val_accuracy: 0.6289\n",
            "Epoch 4/10\n",
            "2480/2480 [==============================] - 66s 27ms/step - loss: 1.4734 - accuracy: 0.5496 - val_loss: 1.2879 - val_accuracy: 0.6489\n",
            "Epoch 5/10\n",
            "2480/2480 [==============================] - 66s 26ms/step - loss: 1.4387 - accuracy: 0.5610 - val_loss: 1.2432 - val_accuracy: 0.6389\n",
            "Epoch 6/10\n",
            "2480/2480 [==============================] - 65s 26ms/step - loss: 1.4115 - accuracy: 0.5697 - val_loss: 1.2049 - val_accuracy: 0.6389\n",
            "Epoch 7/10\n",
            "2480/2480 [==============================] - 66s 26ms/step - loss: 1.3959 - accuracy: 0.5728 - val_loss: 1.2060 - val_accuracy: 0.6400\n",
            "Epoch 8/10\n",
            "2480/2480 [==============================] - 65s 26ms/step - loss: 1.3822 - accuracy: 0.5779 - val_loss: 1.2133 - val_accuracy: 0.6367\n",
            "Epoch 9/10\n",
            "2480/2480 [==============================] - 66s 26ms/step - loss: 1.3725 - accuracy: 0.5823 - val_loss: 1.2046 - val_accuracy: 0.6400\n",
            "Epoch 10/10\n",
            "2480/2480 [==============================] - 65s 26ms/step - loss: 1.3539 - accuracy: 0.5851 - val_loss: 1.1955 - val_accuracy: 0.6367\n",
            "259/259 [==============================] - 2s 8ms/step - loss: 1.1909 - accuracy: 0.6454\n",
            "Loss:  1.1909290552139282\n",
            "Accuracy:  0.6454149484634399\n"
          ],
          "name": "stdout"
        }
      ]
    },
    {
      "cell_type": "markdown",
      "metadata": {
        "id": "5ezxxooCMkh_",
        "colab_type": "text"
      },
      "source": [
        "# Model Summary"
      ]
    },
    {
      "cell_type": "code",
      "metadata": {
        "id": "5KJ-xLPaoDuk",
        "colab_type": "code",
        "outputId": "e90e4e74-40a9-44fb-d4d3-c2df5021b780",
        "colab": {
          "base_uri": "https://localhost:8080/",
          "height": 469
        }
      },
      "source": [
        "tf.train.latest_checkpoint(checkpoint_dir)\n",
        "\n",
        "model.load_weights(tf.train.latest_checkpoint(checkpoint_dir))\n",
        "\n",
        "model.build(tf.TensorShape([1, None]))\n",
        "\n",
        "model.summary()"
      ],
      "execution_count": 23,
      "outputs": [
        {
          "output_type": "stream",
          "text": [
            "Model: \"sequential_1\"\n",
            "_________________________________________________________________\n",
            "Layer (type)                 Output Shape              Param #   \n",
            "=================================================================\n",
            "embedding_1 (Embedding)      (None, None, 256)         1024000   \n",
            "_________________________________________________________________\n",
            "dropout_4 (Dropout)          (None, None, 256)         0         \n",
            "_________________________________________________________________\n",
            "conv1d_1 (Conv1D)            (None, None, 128)         163968    \n",
            "_________________________________________________________________\n",
            "dropout_5 (Dropout)          (None, None, 128)         0         \n",
            "_________________________________________________________________\n",
            "global_max_pooling1d_1 (Glob (None, 128)               0         \n",
            "_________________________________________________________________\n",
            "dropout_6 (Dropout)          (None, 128)               0         \n",
            "_________________________________________________________________\n",
            "dense_2 (Dense)              (None, 64)                8256      \n",
            "_________________________________________________________________\n",
            "dropout_7 (Dropout)          (None, 64)                0         \n",
            "_________________________________________________________________\n",
            "dense_3 (Dense)              (None, 30)                1950      \n",
            "=================================================================\n",
            "Total params: 1,198,174\n",
            "Trainable params: 1,198,174\n",
            "Non-trainable params: 0\n",
            "_________________________________________________________________\n"
          ],
          "name": "stdout"
        }
      ]
    },
    {
      "cell_type": "markdown",
      "metadata": {
        "id": "Ps7OvpbgMpvv",
        "colab_type": "text"
      },
      "source": [
        "# Performance Plots"
      ]
    },
    {
      "cell_type": "code",
      "metadata": {
        "id": "UuBzZE-ynbpB",
        "colab_type": "code",
        "outputId": "8c1fe5bc-b1be-4d2d-afd7-e54ed5092fae",
        "colab": {
          "base_uri": "https://localhost:8080/",
          "height": 325
        }
      },
      "source": [
        "history_dict = history.history\n",
        "history_dict.keys()\n",
        "\n",
        "acc = history_dict['accuracy']\n",
        "val_acc = history_dict['val_accuracy']\n",
        "loss = history_dict['loss']\n",
        "val_loss = history_dict['val_loss']\n",
        "\n",
        "epochs = range(1, len(acc) + 1)\n",
        "\n",
        "\n",
        "plt.plot(epochs, loss, label='Training loss')\n",
        "plt.plot(epochs, val_loss, label='Validation loss')\n",
        "plt.title('Training and validation loss')\n",
        "plt.xlabel('Epochs')\n",
        "plt.ylabel('Loss')\n",
        "plt.legend()\n",
        "\n",
        "plt.show()\n",
        "\n"
      ],
      "execution_count": 24,
      "outputs": [
        {
          "output_type": "display_data",
          "data": {
            "image/png": "[encoded data removed]",
            "text/plain": [
              "<Figure size 432x288 with 1 Axes>"
            ]
          },
          "metadata": {
            "tags": []
          }
        }
      ]
    },
    {
      "cell_type": "code",
      "metadata": {
        "id": "b41uHBHonrsw",
        "colab_type": "code",
        "outputId": "6e6e1c43-602b-4d43-df67-c0648b97ae33",
        "colab": {
          "base_uri": "https://localhost:8080/",
          "height": 325
        }
      },
      "source": [
        "plt.clf()   # clear figure\n",
        "\n",
        "plt.plot(epochs, acc, label='Training acc')\n",
        "plt.plot(epochs, val_acc, label='Validation acc')\n",
        "plt.title('Training and validation accuracy')\n",
        "plt.xlabel('Epochs')\n",
        "plt.ylabel('Accuracy')\n",
        "plt.legend(loc='lower right')\n",
        "\n",
        "plt.show()"
      ],
      "execution_count": 25,
      "outputs": [
        {
          "output_type": "display_data",
          "data": {
            "image/png": "[encoded data removed]",
            "text/plain": [
              "<Figure size 432x288 with 1 Axes>"
            ]
          },
          "metadata": {
            "tags": []
          }
        }
      ]
    },
    {
      "cell_type": "markdown",
      "metadata": {
        "id": "VZlQRjnTNIfm",
        "colab_type": "text"
      },
      "source": [
        "# Prediction on unseen data"
      ]
    },
    {
      "cell_type": "code",
      "metadata": {
        "id": "1py3Bj2eFFp-",
        "colab_type": "code",
        "colab": {}
      },
      "source": [
        "def sample_predict(sample_pred_text, pad):\n",
        "  encoded_sample_pred_text = tokenizer.texts_to_sequences(sample_pred_text)\n",
        "  print(encoded_sample_pred_text)\n",
        "  print(type(encoded_sample_pred_text))\n",
        "\n",
        "  if pad:\n",
        "    encoded_sample_pred_text = pad_to_size(encoded_sample_pred_text, SEQ_LEN)\n",
        "    \n",
        "  encoded_sample_pred_text = np.array(encoded_sample_pred_text)\n",
        "  encoded_sample_pred_text = encoded_sample_pred_text.astype(\"float32\")\n",
        "  predictions = model.predict(encoded_sample_pred_text)\n"
      ],
      "execution_count": 0,
      "outputs": []
    },
    {
      "cell_type": "code",
      "metadata": {
        "id": "TVkWq1oSFn1m",
        "colab_type": "code",
        "outputId": "a0a5ac82-6166-4d99-a33a-0e9a221144c0",
        "colab": {
          "base_uri": "https://localhost:8080/",
          "height": 1000
        }
      },
      "source": [
        "new_review = ['Crisp grapefruit and grassy lemon.']\n",
        "encoded_sample_pred_text = tokenizer.texts_to_sequences(new_review)\n",
        "# Some models need padding, some don't - depends on the embedding layer.\n",
        "encoded_sample_pred_text = tf.keras.preprocessing.sequence.pad_sequences(encoded_sample_pred_text, maxlen=SEQ_LEN, padding=\"post\")\n",
        "predictions = model.predict(encoded_sample_pred_text)\n",
        "\n",
        "for n in reversed((np.argsort(predictions))[0]):\n",
        "    predicted_id = [n]\n",
        "    print(\"Guess: %s \\n Probability: %f\" %(decode_label(predicted_id).replace('_', ' '), 100*predictions[0][predicted_id][0]) + '%')"
      ],
      "execution_count": 27,
      "outputs": [
        {
          "output_type": "stream",
          "text": [
            "Guess: sauvignon blanc \n",
            " Probability: 50.738043%\n",
            "Guess: chardonnay \n",
            " Probability: 16.888437%\n",
            "Guess: bordeaux-style white blend \n",
            " Probability: 6.524388%\n",
            "Guess: white blend \n",
            " Probability: 5.669224%\n",
            "Guess: riesling \n",
            " Probability: 4.555720%\n",
            "Guess: pinot gris \n",
            " Probability: 3.966882%\n",
            "Guess: grüner veltliner \n",
            " Probability: 3.228327%\n",
            "Guess: pinot grigio \n",
            " Probability: 2.885943%\n",
            "Guess: portuguese white \n",
            " Probability: 2.264085%\n",
            "Guess: sparkling blend \n",
            " Probability: 1.358954%\n",
            "Guess: gewürztraminer \n",
            " Probability: 0.934037%\n",
            "Guess: rosé \n",
            " Probability: 0.627023%\n",
            "Guess: champagne blend \n",
            " Probability: 0.227396%\n",
            "Guess: pinot noir \n",
            " Probability: 0.073171%\n",
            "Guess: bordeaux-style red blend \n",
            " Probability: 0.018507%\n",
            "Guess: red blend \n",
            " Probability: 0.013864%\n",
            "Guess: merlot \n",
            " Probability: 0.008160%\n",
            "Guess: sangiovese \n",
            " Probability: 0.004639%\n",
            "Guess: cabernet sauvignon \n",
            " Probability: 0.003893%\n",
            "Guess: syrah \n",
            " Probability: 0.003703%\n",
            "Guess: cabernet franc \n",
            " Probability: 0.001935%\n",
            "Guess: malbec \n",
            " Probability: 0.001860%\n",
            "Guess: zinfandel \n",
            " Probability: 0.000791%\n",
            "Guess: portuguese red \n",
            " Probability: 0.000492%\n",
            "Guess: tempranillo \n",
            " Probability: 0.000256%\n",
            "Guess: rhône-style red blend \n",
            " Probability: 0.000171%\n",
            "Guess: gamay \n",
            " Probability: 0.000099%\n",
            "Guess: nebbiolo \n",
            " Probability: 0.000000%\n",
            "Guess: ? \n",
            " Probability: 0.000000%\n",
            "Guess: ? \n",
            " Probability: 0.000000%\n"
          ],
          "name": "stdout"
        }
      ]
    },
    {
      "cell_type": "code",
      "metadata": {
        "id": "D0GWqTNcFrn-",
        "colab_type": "code",
        "outputId": "43f4148f-3e82-4957-e56f-b85170d31a62",
        "colab": {
          "base_uri": "https://localhost:8080/",
          "height": 1000
        }
      },
      "source": [
        "new_review = ['Tart cherry and light, with velvety mushroom with lingering tannins.']\n",
        "encoded_sample_pred_text = tokenizer.texts_to_sequences(new_review)\n",
        "# Some models need padding, some don't - depends on the embedding layer.\n",
        "encoded_sample_pred_text = tf.keras.preprocessing.sequence.pad_sequences(encoded_sample_pred_text, maxlen=SEQ_LEN, padding=\"post\")\n",
        "predictions = model.predict(encoded_sample_pred_text)\n",
        "\n",
        "for n in reversed((np.argsort(predictions))[0]):\n",
        "    predicted_id = [n]\n",
        "    print(\"Guess: %s \\n Probability: %f\" %(decode_label(predicted_id).replace('_', ' '), 100*predictions[0][predicted_id][0]) + '%')\n"
      ],
      "execution_count": 28,
      "outputs": [
        {
          "output_type": "stream",
          "text": [
            "Guess: pinot noir \n",
            " Probability: 24.472205%\n",
            "Guess: cabernet sauvignon \n",
            " Probability: 11.513395%\n",
            "Guess: bordeaux-style red blend \n",
            " Probability: 9.061338%\n",
            "Guess: syrah \n",
            " Probability: 8.170669%\n",
            "Guess: red blend \n",
            " Probability: 7.189009%\n",
            "Guess: merlot \n",
            " Probability: 6.937240%\n",
            "Guess: malbec \n",
            " Probability: 5.373776%\n",
            "Guess: zinfandel \n",
            " Probability: 4.599660%\n",
            "Guess: cabernet franc \n",
            " Probability: 4.253636%\n",
            "Guess: rhône-style red blend \n",
            " Probability: 3.499168%\n",
            "Guess: sangiovese \n",
            " Probability: 3.369092%\n",
            "Guess: gamay \n",
            " Probability: 2.849871%\n",
            "Guess: tempranillo \n",
            " Probability: 2.765136%\n",
            "Guess: rosé \n",
            " Probability: 2.246162%\n",
            "Guess: portuguese red \n",
            " Probability: 2.153343%\n",
            "Guess: nebbiolo \n",
            " Probability: 1.221021%\n",
            "Guess: chardonnay \n",
            " Probability: 0.179057%\n",
            "Guess: sparkling blend \n",
            " Probability: 0.076886%\n",
            "Guess: champagne blend \n",
            " Probability: 0.037364%\n",
            "Guess: sauvignon blanc \n",
            " Probability: 0.010768%\n",
            "Guess: gewürztraminer \n",
            " Probability: 0.009560%\n",
            "Guess: pinot grigio \n",
            " Probability: 0.003475%\n",
            "Guess: riesling \n",
            " Probability: 0.002725%\n",
            "Guess: pinot gris \n",
            " Probability: 0.001818%\n",
            "Guess: white blend \n",
            " Probability: 0.001473%\n",
            "Guess: bordeaux-style white blend \n",
            " Probability: 0.001318%\n",
            "Guess: grüner veltliner \n",
            " Probability: 0.000655%\n",
            "Guess: portuguese white \n",
            " Probability: 0.000171%\n",
            "Guess: ? \n",
            " Probability: 0.000000%\n",
            "Guess: ? \n",
            " Probability: 0.000000%\n"
          ],
          "name": "stdout"
        }
      ]
    },
    {
      "cell_type": "code",
      "metadata": {
        "id": "lk3B8RvWF0Z8",
        "colab_type": "code",
        "outputId": "f23decb3-b372-4261-e08f-1d26a6312fe4",
        "colab": {
          "base_uri": "https://localhost:8080/",
          "height": 1000
        }
      },
      "source": [
        "new_review = ['Light and fruity with cookie, lemon, and strawberry.']\n",
        "encoded_sample_pred_text = tokenizer.texts_to_sequences(new_review)\n",
        "# Some models need padding, some don't - depends on the embedding layer.\n",
        "# encoded_sample_pred_text = tf.keras.preprocessing.sequence.pad_sequences(encoded_sample_pred_text, maxlen=SEQ_LEN, padding=\"post\")\n",
        "predictions = model.predict(encoded_sample_pred_text)\n",
        "for n in reversed((np.argsort(predictions))[0]):\n",
        "    predicted_id = [n]\n",
        "    print(\"Guess: %s \\n Probability: %f\" %(decode_label(predicted_id).replace('_', ' '), 100*predictions[0][predicted_id][0]) + '%')\n",
        "    \n"
      ],
      "execution_count": 30,
      "outputs": [
        {
          "output_type": "stream",
          "text": [
            "Guess: chardonnay \n",
            " Probability: 24.064654%\n",
            "Guess: sauvignon blanc \n",
            " Probability: 14.072736%\n",
            "Guess: rosé \n",
            " Probability: 8.752837%\n",
            "Guess: pinot noir \n",
            " Probability: 7.771739%\n",
            "Guess: riesling \n",
            " Probability: 7.034099%\n",
            "Guess: gewürztraminer \n",
            " Probability: 3.417405%\n",
            "Guess: bordeaux-style red blend \n",
            " Probability: 3.383233%\n",
            "Guess: bordeaux-style white blend \n",
            " Probability: 3.241674%\n",
            "Guess: pinot gris \n",
            " Probability: 3.230702%\n",
            "Guess: grüner veltliner \n",
            " Probability: 3.173357%\n",
            "Guess: sparkling blend \n",
            " Probability: 3.017698%\n",
            "Guess: champagne blend \n",
            " Probability: 2.706474%\n",
            "Guess: white blend \n",
            " Probability: 2.624694%\n",
            "Guess: portuguese white \n",
            " Probability: 2.336800%\n",
            "Guess: pinot grigio \n",
            " Probability: 1.700463%\n",
            "Guess: red blend \n",
            " Probability: 1.549436%\n",
            "Guess: syrah \n",
            " Probability: 1.195931%\n",
            "Guess: malbec \n",
            " Probability: 1.148229%\n",
            "Guess: cabernet sauvignon \n",
            " Probability: 1.121845%\n",
            "Guess: merlot \n",
            " Probability: 0.977841%\n",
            "Guess: portuguese red \n",
            " Probability: 0.913735%\n",
            "Guess: cabernet franc \n",
            " Probability: 0.666428%\n",
            "Guess: gamay \n",
            " Probability: 0.537356%\n",
            "Guess: zinfandel \n",
            " Probability: 0.399818%\n",
            "Guess: sangiovese \n",
            " Probability: 0.371604%\n",
            "Guess: rhône-style red blend \n",
            " Probability: 0.364463%\n",
            "Guess: tempranillo \n",
            " Probability: 0.204168%\n",
            "Guess: nebbiolo \n",
            " Probability: 0.020581%\n",
            "Guess: ? \n",
            " Probability: 0.000000%\n",
            "Guess: ? \n",
            " Probability: 0.000000%\n"
          ],
          "name": "stdout"
        }
      ]
    },
    {
      "cell_type": "markdown",
      "metadata": {
        "id": "IaY9-qoeOK8x",
        "colab_type": "text"
      },
      "source": [
        "# Predicting the 'Variety ' of wine in the test dataset"
      ]
    },
    {
      "cell_type": "code",
      "metadata": {
        "id": "4-hs3oa4MYzK",
        "colab_type": "code",
        "colab": {}
      },
      "source": [
        "df_test = pd.read_csv(\"test.csv\")"
      ],
      "execution_count": 0,
      "outputs": []
    },
    {
      "cell_type": "code",
      "metadata": {
        "id": "SyLvrEczXWdB",
        "colab_type": "code",
        "colab": {
          "base_uri": "https://localhost:8080/",
          "height": 521
        },
        "outputId": "49a2e685-b73c-436d-c0c4-1da1f7b44a22"
      },
      "source": [
        "df_test.head()"
      ],
      "execution_count": 32,
      "outputs": [
        {
          "output_type": "execute_result",
          "data": {
            "text/html": [
              "<div>\n",
              "<style scoped>\n",
              "    .dataframe tbody tr th:only-of-type {\n",
              "        vertical-align: middle;\n",
              "    }\n",
              "\n",
              "    .dataframe tbody tr th {\n",
              "        vertical-align: top;\n",
              "    }\n",
              "\n",
              "    .dataframe thead th {\n",
              "        text-align: right;\n",
              "    }\n",
              "</style>\n",
              "<table border=\"1\" class=\"dataframe\">\n",
              "  <thead>\n",
              "    <tr style=\"text-align: right;\">\n",
              "      <th></th>\n",
              "      <th>user_name</th>\n",
              "      <th>country</th>\n",
              "      <th>review_title</th>\n",
              "      <th>review_description</th>\n",
              "      <th>designation</th>\n",
              "      <th>points</th>\n",
              "      <th>price</th>\n",
              "      <th>province</th>\n",
              "      <th>region_1</th>\n",
              "      <th>region_2</th>\n",
              "      <th>winery</th>\n",
              "    </tr>\n",
              "  </thead>\n",
              "  <tbody>\n",
              "    <tr>\n",
              "      <th>0</th>\n",
              "      <td>@paulgwine</td>\n",
              "      <td>US</td>\n",
              "      <td>Boedecker Cellars 2011 Athena Pinot Noir (Will...</td>\n",
              "      <td>Nicely differentiated from the companion Stewa...</td>\n",
              "      <td>Athena</td>\n",
              "      <td>88</td>\n",
              "      <td>35.0</td>\n",
              "      <td>Oregon</td>\n",
              "      <td>Willamette Valley</td>\n",
              "      <td>Willamette Valley</td>\n",
              "      <td>Boedecker Cellars</td>\n",
              "    </tr>\n",
              "    <tr>\n",
              "      <th>1</th>\n",
              "      <td>@wineschach</td>\n",
              "      <td>Argentina</td>\n",
              "      <td>Mendoza Vineyards 2012 Gran Reserva by Richard...</td>\n",
              "      <td>Charred, smoky, herbal aromas of blackberry tr...</td>\n",
              "      <td>Gran Reserva by Richard Bonvin</td>\n",
              "      <td>90</td>\n",
              "      <td>60.0</td>\n",
              "      <td>Mendoza Province</td>\n",
              "      <td>Mendoza</td>\n",
              "      <td>NaN</td>\n",
              "      <td>Mendoza Vineyards</td>\n",
              "    </tr>\n",
              "    <tr>\n",
              "      <th>2</th>\n",
              "      <td>@vboone</td>\n",
              "      <td>US</td>\n",
              "      <td>Prime 2013 Chardonnay (Coombsville)</td>\n",
              "      <td>Slightly sour and funky in earth, this is a re...</td>\n",
              "      <td>NaN</td>\n",
              "      <td>87</td>\n",
              "      <td>38.0</td>\n",
              "      <td>California</td>\n",
              "      <td>Coombsville</td>\n",
              "      <td>Napa</td>\n",
              "      <td>Prime</td>\n",
              "    </tr>\n",
              "    <tr>\n",
              "      <th>3</th>\n",
              "      <td>@wineschach</td>\n",
              "      <td>Argentina</td>\n",
              "      <td>Bodega Cuarto Dominio 2012 Chento Vineyard Sel...</td>\n",
              "      <td>This concentrated, midnight-black Malbec deliv...</td>\n",
              "      <td>Chento Vineyard Selection</td>\n",
              "      <td>91</td>\n",
              "      <td>20.0</td>\n",
              "      <td>Mendoza Province</td>\n",
              "      <td>Mendoza</td>\n",
              "      <td>NaN</td>\n",
              "      <td>Bodega Cuarto Dominio</td>\n",
              "    </tr>\n",
              "    <tr>\n",
              "      <th>4</th>\n",
              "      <td>@kerinokeefe</td>\n",
              "      <td>Italy</td>\n",
              "      <td>SassodiSole 2012  Brunello di Montalcino</td>\n",
              "      <td>Earthy aromas suggesting grilled porcini, leat...</td>\n",
              "      <td>NaN</td>\n",
              "      <td>90</td>\n",
              "      <td>49.0</td>\n",
              "      <td>Tuscany</td>\n",
              "      <td>Brunello di Montalcino</td>\n",
              "      <td>NaN</td>\n",
              "      <td>SassodiSole</td>\n",
              "    </tr>\n",
              "  </tbody>\n",
              "</table>\n",
              "</div>"
            ],
            "text/plain": [
              "      user_name    country  ...           region_2                 winery\n",
              "0   @paulgwine          US  ...  Willamette Valley      Boedecker Cellars\n",
              "1   @wineschach  Argentina  ...                NaN      Mendoza Vineyards\n",
              "2       @vboone         US  ...               Napa                  Prime\n",
              "3   @wineschach  Argentina  ...                NaN  Bodega Cuarto Dominio\n",
              "4  @kerinokeefe      Italy  ...                NaN            SassodiSole\n",
              "\n",
              "[5 rows x 11 columns]"
            ]
          },
          "metadata": {
            "tags": []
          },
          "execution_count": 32
        }
      ]
    },
    {
      "cell_type": "code",
      "metadata": {
        "id": "COSEI4qLXZMr",
        "colab_type": "code",
        "colab": {}
      },
      "source": [
        "df_test_new = df_test['review_description']"
      ],
      "execution_count": 0,
      "outputs": []
    },
    {
      "cell_type": "code",
      "metadata": {
        "id": "5kb5DvTKXqZI",
        "colab_type": "code",
        "colab": {
          "base_uri": "https://localhost:8080/",
          "height": 225
        },
        "outputId": "4a31d496-3529-48fe-9e75-a38550e0598e"
      },
      "source": [
        "df_test_new"
      ],
      "execution_count": 34,
      "outputs": [
        {
          "output_type": "execute_result",
          "data": {
            "text/plain": [
              "0        Nicely differentiated from the companion Stewa...\n",
              "1        Charred, smoky, herbal aromas of blackberry tr...\n",
              "2        Slightly sour and funky in earth, this is a re...\n",
              "3        This concentrated, midnight-black Malbec deliv...\n",
              "4        Earthy aromas suggesting grilled porcini, leat...\n",
              "                               ...                        \n",
              "20660    Clearly focused and fruit-driven, this wine ha...\n",
              "20661    Herbal tones of bay and rosemary are upfront o...\n",
              "20662    Mocha cream, pencil shaving and dried herb aro...\n",
              "20663    Loud citrus and berry aromas precede an overlo...\n",
              "20664    With very ripe fruit and firm tannins, this mo...\n",
              "Name: review_description, Length: 20665, dtype: object"
            ]
          },
          "metadata": {
            "tags": []
          },
          "execution_count": 34
        }
      ]
    },
    {
      "cell_type": "code",
      "metadata": {
        "id": "EHO3nbGtX7zm",
        "colab_type": "code",
        "colab": {
          "base_uri": "https://localhost:8080/",
          "height": 34
        },
        "outputId": "b7f36d17-3dd0-47f4-e780-dd03d0589fa1"
      },
      "source": [
        "df_test_new.shape[0]"
      ],
      "execution_count": 35,
      "outputs": [
        {
          "output_type": "execute_result",
          "data": {
            "text/plain": [
              "20665"
            ]
          },
          "metadata": {
            "tags": []
          },
          "execution_count": 35
        }
      ]
    },
    {
      "cell_type": "code",
      "metadata": {
        "id": "rIgzBPSKXsMh",
        "colab_type": "code",
        "colab": {}
      },
      "source": [
        "variety = []\n",
        "\n",
        "for review in df_test_new:\n",
        "  review = [review]\n",
        "  encoded_sample_pred_text = tokenizer.texts_to_sequences(review)\n",
        "  encoded_sample_pred_text = tf.keras.preprocessing.sequence.pad_sequences(encoded_sample_pred_text, maxlen=SEQ_LEN, padding=\"post\")\n",
        "  predictions = model.predict(encoded_sample_pred_text)\n",
        "  for n in reversed((np.argsort(predictions))[0]):\n",
        "      predicted_id = [n]\n",
        "      variety_pred = decode_label(predicted_id).replace('_', ' ')\n",
        "      break\n",
        "  variety.append(variety_pred)\n",
        "\n"
      ],
      "execution_count": 0,
      "outputs": []
    },
    {
      "cell_type": "code",
      "metadata": {
        "id": "vWnfR2xKcWF2",
        "colab_type": "code",
        "colab": {
          "base_uri": "https://localhost:8080/",
          "height": 1000
        },
        "outputId": "1a5a9ff4-e382-4d3c-cb9f-b7f0e493ab3c"
      },
      "source": [
        "variety"
      ],
      "execution_count": 37,
      "outputs": [
        {
          "output_type": "execute_result",
          "data": {
            "text/plain": [
              "['pinot noir',\n",
              " 'malbec',\n",
              " 'chardonnay',\n",
              " 'malbec',\n",
              " 'sangiovese',\n",
              " 'chardonnay',\n",
              " 'bordeaux-style red blend',\n",
              " 'cabernet sauvignon',\n",
              " 'red blend',\n",
              " 'sparkling blend',\n",
              " 'pinot noir',\n",
              " 'champagne blend',\n",
              " 'rosé',\n",
              " 'pinot noir',\n",
              " 'cabernet sauvignon',\n",
              " 'riesling',\n",
              " 'cabernet sauvignon',\n",
              " 'pinot noir',\n",
              " 'cabernet sauvignon',\n",
              " 'bordeaux-style red blend',\n",
              " 'pinot noir',\n",
              " 'pinot noir',\n",
              " 'cabernet sauvignon',\n",
              " 'portuguese red',\n",
              " 'chardonnay',\n",
              " 'rosé',\n",
              " 'bordeaux-style red blend',\n",
              " 'chardonnay',\n",
              " 'chardonnay',\n",
              " 'red blend',\n",
              " 'riesling',\n",
              " 'cabernet sauvignon',\n",
              " 'rosé',\n",
              " 'cabernet sauvignon',\n",
              " 'portuguese red',\n",
              " 'chardonnay',\n",
              " 'nebbiolo',\n",
              " 'chardonnay',\n",
              " 'cabernet sauvignon',\n",
              " 'chardonnay',\n",
              " 'pinot noir',\n",
              " 'cabernet sauvignon',\n",
              " 'rhône-style red blend',\n",
              " 'tempranillo',\n",
              " 'riesling',\n",
              " 'cabernet sauvignon',\n",
              " 'cabernet sauvignon',\n",
              " 'sauvignon blanc',\n",
              " 'bordeaux-style red blend',\n",
              " 'pinot noir',\n",
              " 'pinot noir',\n",
              " 'riesling',\n",
              " 'chardonnay',\n",
              " 'pinot noir',\n",
              " 'sauvignon blanc',\n",
              " 'chardonnay',\n",
              " 'bordeaux-style red blend',\n",
              " 'bordeaux-style white blend',\n",
              " 'sauvignon blanc',\n",
              " 'chardonnay',\n",
              " 'sparkling blend',\n",
              " 'sauvignon blanc',\n",
              " 'bordeaux-style red blend',\n",
              " 'cabernet franc',\n",
              " 'pinot noir',\n",
              " 'cabernet sauvignon',\n",
              " 'grüner veltliner',\n",
              " 'chardonnay',\n",
              " 'pinot noir',\n",
              " 'pinot noir',\n",
              " 'pinot noir',\n",
              " 'chardonnay',\n",
              " 'pinot noir',\n",
              " 'nebbiolo',\n",
              " 'pinot noir',\n",
              " 'pinot noir',\n",
              " 'chardonnay',\n",
              " 'nebbiolo',\n",
              " 'cabernet sauvignon',\n",
              " 'chardonnay',\n",
              " 'pinot noir',\n",
              " 'cabernet sauvignon',\n",
              " 'sauvignon blanc',\n",
              " 'red blend',\n",
              " 'sauvignon blanc',\n",
              " 'bordeaux-style red blend',\n",
              " 'chardonnay',\n",
              " 'pinot noir',\n",
              " 'pinot noir',\n",
              " 'pinot noir',\n",
              " 'pinot noir',\n",
              " 'riesling',\n",
              " 'rosé',\n",
              " 'syrah',\n",
              " 'chardonnay',\n",
              " 'bordeaux-style red blend',\n",
              " 'portuguese red',\n",
              " 'sparkling blend',\n",
              " 'cabernet sauvignon',\n",
              " 'pinot noir',\n",
              " 'cabernet sauvignon',\n",
              " 'pinot noir',\n",
              " 'bordeaux-style red blend',\n",
              " 'sauvignon blanc',\n",
              " 'sangiovese',\n",
              " 'bordeaux-style red blend',\n",
              " 'bordeaux-style red blend',\n",
              " 'cabernet sauvignon',\n",
              " 'rosé',\n",
              " 'red blend',\n",
              " 'cabernet sauvignon',\n",
              " 'red blend',\n",
              " 'chardonnay',\n",
              " 'rosé',\n",
              " 'riesling',\n",
              " 'sparkling blend',\n",
              " 'pinot noir',\n",
              " 'chardonnay',\n",
              " 'chardonnay',\n",
              " 'rosé',\n",
              " 'cabernet sauvignon',\n",
              " 'red blend',\n",
              " 'portuguese white',\n",
              " 'chardonnay',\n",
              " 'chardonnay',\n",
              " 'chardonnay',\n",
              " 'riesling',\n",
              " 'malbec',\n",
              " 'bordeaux-style red blend',\n",
              " 'pinot noir',\n",
              " 'portuguese red',\n",
              " 'pinot noir',\n",
              " 'malbec',\n",
              " 'pinot noir',\n",
              " 'cabernet sauvignon',\n",
              " 'syrah',\n",
              " 'sauvignon blanc',\n",
              " 'rosé',\n",
              " 'chardonnay',\n",
              " 'pinot noir',\n",
              " 'bordeaux-style red blend',\n",
              " 'syrah',\n",
              " 'sparkling blend',\n",
              " 'cabernet sauvignon',\n",
              " 'syrah',\n",
              " 'chardonnay',\n",
              " 'bordeaux-style red blend',\n",
              " 'pinot noir',\n",
              " 'cabernet sauvignon',\n",
              " 'bordeaux-style red blend',\n",
              " 'chardonnay',\n",
              " 'sparkling blend',\n",
              " 'pinot noir',\n",
              " 'pinot noir',\n",
              " 'nebbiolo',\n",
              " 'chardonnay',\n",
              " 'chardonnay',\n",
              " 'rosé',\n",
              " 'riesling',\n",
              " 'cabernet sauvignon',\n",
              " 'cabernet sauvignon',\n",
              " 'cabernet sauvignon',\n",
              " 'red blend',\n",
              " 'pinot noir',\n",
              " 'malbec',\n",
              " 'white blend',\n",
              " 'bordeaux-style red blend',\n",
              " 'chardonnay',\n",
              " 'bordeaux-style red blend',\n",
              " 'chardonnay',\n",
              " 'chardonnay',\n",
              " 'sangiovese',\n",
              " 'pinot noir',\n",
              " 'riesling',\n",
              " 'sauvignon blanc',\n",
              " 'chardonnay',\n",
              " 'rhône-style red blend',\n",
              " 'rosé',\n",
              " 'nebbiolo',\n",
              " 'cabernet sauvignon',\n",
              " 'chardonnay',\n",
              " 'riesling',\n",
              " 'grüner veltliner',\n",
              " 'pinot noir',\n",
              " 'bordeaux-style red blend',\n",
              " 'white blend',\n",
              " 'chardonnay',\n",
              " 'pinot noir',\n",
              " 'red blend',\n",
              " 'bordeaux-style red blend',\n",
              " 'chardonnay',\n",
              " 'chardonnay',\n",
              " 'pinot noir',\n",
              " 'syrah',\n",
              " 'red blend',\n",
              " 'zinfandel',\n",
              " 'pinot noir',\n",
              " 'sparkling blend',\n",
              " 'nebbiolo',\n",
              " 'pinot noir',\n",
              " 'pinot noir',\n",
              " 'chardonnay',\n",
              " 'pinot noir',\n",
              " 'cabernet sauvignon',\n",
              " 'cabernet sauvignon',\n",
              " 'malbec',\n",
              " 'pinot noir',\n",
              " 'chardonnay',\n",
              " 'syrah',\n",
              " 'chardonnay',\n",
              " 'chardonnay',\n",
              " 'bordeaux-style red blend',\n",
              " 'bordeaux-style red blend',\n",
              " 'pinot noir',\n",
              " 'gewürztraminer',\n",
              " 'cabernet sauvignon',\n",
              " 'pinot noir',\n",
              " 'pinot noir',\n",
              " 'pinot noir',\n",
              " 'cabernet sauvignon',\n",
              " 'red blend',\n",
              " 'rosé',\n",
              " 'chardonnay',\n",
              " 'sauvignon blanc',\n",
              " 'chardonnay',\n",
              " 'chardonnay',\n",
              " 'chardonnay',\n",
              " 'tempranillo',\n",
              " 'syrah',\n",
              " 'red blend',\n",
              " 'chardonnay',\n",
              " 'pinot noir',\n",
              " 'rhône-style red blend',\n",
              " 'chardonnay',\n",
              " 'riesling',\n",
              " 'pinot noir',\n",
              " 'cabernet sauvignon',\n",
              " 'pinot noir',\n",
              " 'pinot noir',\n",
              " 'nebbiolo',\n",
              " 'cabernet sauvignon',\n",
              " 'red blend',\n",
              " 'pinot noir',\n",
              " 'bordeaux-style red blend',\n",
              " 'rosé',\n",
              " 'chardonnay',\n",
              " 'grüner veltliner',\n",
              " 'sauvignon blanc',\n",
              " 'red blend',\n",
              " 'chardonnay',\n",
              " 'red blend',\n",
              " 'pinot noir',\n",
              " 'cabernet sauvignon',\n",
              " 'pinot noir',\n",
              " 'pinot noir',\n",
              " 'chardonnay',\n",
              " 'cabernet sauvignon',\n",
              " 'chardonnay',\n",
              " 'pinot noir',\n",
              " 'pinot noir',\n",
              " 'pinot noir',\n",
              " 'pinot noir',\n",
              " 'riesling',\n",
              " 'cabernet sauvignon',\n",
              " 'pinot noir',\n",
              " 'sauvignon blanc',\n",
              " 'bordeaux-style red blend',\n",
              " 'sauvignon blanc',\n",
              " 'malbec',\n",
              " 'chardonnay',\n",
              " 'pinot noir',\n",
              " 'merlot',\n",
              " 'red blend',\n",
              " 'cabernet sauvignon',\n",
              " 'cabernet sauvignon',\n",
              " 'red blend',\n",
              " 'riesling',\n",
              " 'bordeaux-style red blend',\n",
              " 'red blend',\n",
              " 'cabernet sauvignon',\n",
              " 'riesling',\n",
              " 'pinot noir',\n",
              " 'chardonnay',\n",
              " 'bordeaux-style red blend',\n",
              " 'pinot noir',\n",
              " 'cabernet sauvignon',\n",
              " 'bordeaux-style red blend',\n",
              " 'pinot noir',\n",
              " 'merlot',\n",
              " 'cabernet sauvignon',\n",
              " 'pinot noir',\n",
              " 'chardonnay',\n",
              " 'sangiovese',\n",
              " 'nebbiolo',\n",
              " 'riesling',\n",
              " 'rosé',\n",
              " 'bordeaux-style red blend',\n",
              " 'chardonnay',\n",
              " 'rosé',\n",
              " 'pinot noir',\n",
              " 'cabernet sauvignon',\n",
              " 'red blend',\n",
              " 'pinot noir',\n",
              " 'sauvignon blanc',\n",
              " 'chardonnay',\n",
              " 'chardonnay',\n",
              " 'cabernet sauvignon',\n",
              " 'rhône-style red blend',\n",
              " 'syrah',\n",
              " 'cabernet sauvignon',\n",
              " 'portuguese red',\n",
              " 'syrah',\n",
              " 'chardonnay',\n",
              " 'red blend',\n",
              " 'cabernet sauvignon',\n",
              " 'chardonnay',\n",
              " 'chardonnay',\n",
              " 'red blend',\n",
              " 'merlot',\n",
              " 'zinfandel',\n",
              " 'sauvignon blanc',\n",
              " 'chardonnay',\n",
              " 'rhône-style red blend',\n",
              " 'pinot noir',\n",
              " 'chardonnay',\n",
              " 'riesling',\n",
              " 'pinot noir',\n",
              " 'pinot noir',\n",
              " 'cabernet sauvignon',\n",
              " 'cabernet sauvignon',\n",
              " 'chardonnay',\n",
              " 'chardonnay',\n",
              " 'bordeaux-style red blend',\n",
              " 'chardonnay',\n",
              " 'pinot noir',\n",
              " 'riesling',\n",
              " 'pinot noir',\n",
              " 'sauvignon blanc',\n",
              " 'chardonnay',\n",
              " 'chardonnay',\n",
              " 'chardonnay',\n",
              " 'cabernet sauvignon',\n",
              " 'pinot noir',\n",
              " 'red blend',\n",
              " 'pinot noir',\n",
              " 'riesling',\n",
              " 'nebbiolo',\n",
              " 'white blend',\n",
              " 'red blend',\n",
              " 'sauvignon blanc',\n",
              " 'cabernet sauvignon',\n",
              " 'bordeaux-style red blend',\n",
              " 'pinot noir',\n",
              " 'portuguese white',\n",
              " 'pinot noir',\n",
              " 'pinot noir',\n",
              " 'cabernet sauvignon',\n",
              " 'rosé',\n",
              " 'sauvignon blanc',\n",
              " 'rosé',\n",
              " 'bordeaux-style red blend',\n",
              " 'cabernet sauvignon',\n",
              " 'pinot noir',\n",
              " 'sauvignon blanc',\n",
              " 'chardonnay',\n",
              " 'bordeaux-style red blend',\n",
              " 'chardonnay',\n",
              " 'zinfandel',\n",
              " 'bordeaux-style red blend',\n",
              " 'zinfandel',\n",
              " 'pinot noir',\n",
              " 'chardonnay',\n",
              " 'red blend',\n",
              " 'chardonnay',\n",
              " 'bordeaux-style red blend',\n",
              " 'rhône-style red blend',\n",
              " 'chardonnay',\n",
              " 'chardonnay',\n",
              " 'pinot noir',\n",
              " 'chardonnay',\n",
              " 'chardonnay',\n",
              " 'chardonnay',\n",
              " 'pinot noir',\n",
              " 'bordeaux-style red blend',\n",
              " 'pinot noir',\n",
              " 'chardonnay',\n",
              " 'portuguese red',\n",
              " 'bordeaux-style red blend',\n",
              " 'bordeaux-style red blend',\n",
              " 'sparkling blend',\n",
              " 'bordeaux-style red blend',\n",
              " 'malbec',\n",
              " 'pinot noir',\n",
              " 'bordeaux-style red blend',\n",
              " 'cabernet sauvignon',\n",
              " 'nebbiolo',\n",
              " 'syrah',\n",
              " 'pinot noir',\n",
              " 'pinot noir',\n",
              " 'chardonnay',\n",
              " 'chardonnay',\n",
              " 'pinot noir',\n",
              " 'pinot noir',\n",
              " 'sauvignon blanc',\n",
              " 'rosé',\n",
              " 'pinot noir',\n",
              " 'bordeaux-style red blend',\n",
              " 'portuguese white',\n",
              " 'pinot noir',\n",
              " 'chardonnay',\n",
              " 'bordeaux-style red blend',\n",
              " 'bordeaux-style red blend',\n",
              " 'cabernet sauvignon',\n",
              " 'red blend',\n",
              " 'sparkling blend',\n",
              " 'chardonnay',\n",
              " 'bordeaux-style red blend',\n",
              " 'malbec',\n",
              " 'sauvignon blanc',\n",
              " 'cabernet sauvignon',\n",
              " 'chardonnay',\n",
              " 'pinot noir',\n",
              " 'pinot noir',\n",
              " 'cabernet sauvignon',\n",
              " 'pinot noir',\n",
              " 'white blend',\n",
              " 'cabernet sauvignon',\n",
              " 'pinot noir',\n",
              " 'cabernet sauvignon',\n",
              " 'rosé',\n",
              " 'chardonnay',\n",
              " 'red blend',\n",
              " 'pinot noir',\n",
              " 'pinot noir',\n",
              " 'pinot noir',\n",
              " 'pinot noir',\n",
              " 'sauvignon blanc',\n",
              " 'riesling',\n",
              " 'bordeaux-style red blend',\n",
              " 'sparkling blend',\n",
              " 'bordeaux-style red blend',\n",
              " 'nebbiolo',\n",
              " 'riesling',\n",
              " 'bordeaux-style red blend',\n",
              " 'chardonnay',\n",
              " 'chardonnay',\n",
              " 'sangiovese',\n",
              " 'bordeaux-style red blend',\n",
              " 'pinot noir',\n",
              " 'cabernet sauvignon',\n",
              " 'pinot noir',\n",
              " 'portuguese red',\n",
              " 'chardonnay',\n",
              " 'pinot noir',\n",
              " 'nebbiolo',\n",
              " 'cabernet sauvignon',\n",
              " 'pinot noir',\n",
              " 'pinot noir',\n",
              " 'red blend',\n",
              " 'cabernet sauvignon',\n",
              " 'bordeaux-style red blend',\n",
              " 'cabernet sauvignon',\n",
              " 'pinot noir',\n",
              " 'tempranillo',\n",
              " 'chardonnay',\n",
              " 'malbec',\n",
              " 'sauvignon blanc',\n",
              " 'riesling',\n",
              " 'pinot noir',\n",
              " 'nebbiolo',\n",
              " 'chardonnay',\n",
              " 'pinot noir',\n",
              " 'cabernet sauvignon',\n",
              " 'sauvignon blanc',\n",
              " 'cabernet sauvignon',\n",
              " 'cabernet sauvignon',\n",
              " 'pinot noir',\n",
              " 'bordeaux-style red blend',\n",
              " 'pinot noir',\n",
              " 'tempranillo',\n",
              " 'chardonnay',\n",
              " 'red blend',\n",
              " 'bordeaux-style red blend',\n",
              " 'chardonnay',\n",
              " 'bordeaux-style red blend',\n",
              " 'chardonnay',\n",
              " 'riesling',\n",
              " 'red blend',\n",
              " 'bordeaux-style red blend',\n",
              " 'malbec',\n",
              " 'syrah',\n",
              " 'riesling',\n",
              " 'sauvignon blanc',\n",
              " 'rosé',\n",
              " 'bordeaux-style red blend',\n",
              " 'portuguese red',\n",
              " 'pinot noir',\n",
              " 'chardonnay',\n",
              " 'bordeaux-style red blend',\n",
              " 'chardonnay',\n",
              " 'rhône-style red blend',\n",
              " 'tempranillo',\n",
              " 'cabernet sauvignon',\n",
              " 'pinot noir',\n",
              " 'riesling',\n",
              " 'pinot noir',\n",
              " 'zinfandel',\n",
              " 'red blend',\n",
              " 'chardonnay',\n",
              " 'bordeaux-style red blend',\n",
              " 'red blend',\n",
              " 'cabernet sauvignon',\n",
              " 'red blend',\n",
              " 'red blend',\n",
              " 'sangiovese',\n",
              " 'chardonnay',\n",
              " 'gewürztraminer',\n",
              " 'cabernet sauvignon',\n",
              " 'pinot noir',\n",
              " 'pinot noir',\n",
              " 'sangiovese',\n",
              " 'white blend',\n",
              " 'cabernet sauvignon',\n",
              " 'merlot',\n",
              " 'chardonnay',\n",
              " 'cabernet sauvignon',\n",
              " 'merlot',\n",
              " 'bordeaux-style red blend',\n",
              " 'malbec',\n",
              " 'pinot noir',\n",
              " 'merlot',\n",
              " 'sauvignon blanc',\n",
              " 'white blend',\n",
              " 'riesling',\n",
              " 'rosé',\n",
              " 'zinfandel',\n",
              " 'chardonnay',\n",
              " 'portuguese white',\n",
              " 'cabernet sauvignon',\n",
              " 'chardonnay',\n",
              " 'pinot noir',\n",
              " 'pinot noir',\n",
              " 'syrah',\n",
              " 'pinot noir',\n",
              " 'zinfandel',\n",
              " 'chardonnay',\n",
              " 'cabernet sauvignon',\n",
              " 'red blend',\n",
              " 'merlot',\n",
              " 'pinot noir',\n",
              " 'cabernet sauvignon',\n",
              " 'bordeaux-style white blend',\n",
              " 'sauvignon blanc',\n",
              " 'syrah',\n",
              " 'cabernet sauvignon',\n",
              " 'rosé',\n",
              " 'cabernet sauvignon',\n",
              " 'cabernet sauvignon',\n",
              " 'chardonnay',\n",
              " 'chardonnay',\n",
              " 'syrah',\n",
              " 'zinfandel',\n",
              " 'chardonnay',\n",
              " 'cabernet sauvignon',\n",
              " 'bordeaux-style red blend',\n",
              " 'red blend',\n",
              " 'chardonnay',\n",
              " 'pinot noir',\n",
              " 'cabernet sauvignon',\n",
              " 'rosé',\n",
              " 'pinot noir',\n",
              " 'pinot noir',\n",
              " 'grüner veltliner',\n",
              " 'bordeaux-style red blend',\n",
              " 'riesling',\n",
              " 'pinot noir',\n",
              " 'pinot noir',\n",
              " 'sauvignon blanc',\n",
              " 'pinot noir',\n",
              " 'white blend',\n",
              " 'nebbiolo',\n",
              " 'nebbiolo',\n",
              " 'chardonnay',\n",
              " 'red blend',\n",
              " 'rosé',\n",
              " 'nebbiolo',\n",
              " 'cabernet sauvignon',\n",
              " 'merlot',\n",
              " 'pinot noir',\n",
              " 'chardonnay',\n",
              " 'pinot noir',\n",
              " 'bordeaux-style red blend',\n",
              " 'sauvignon blanc',\n",
              " 'chardonnay',\n",
              " 'zinfandel',\n",
              " 'pinot grigio',\n",
              " 'pinot noir',\n",
              " 'chardonnay',\n",
              " 'pinot noir',\n",
              " 'chardonnay',\n",
              " 'red blend',\n",
              " 'zinfandel',\n",
              " 'chardonnay',\n",
              " 'cabernet sauvignon',\n",
              " 'red blend',\n",
              " 'pinot noir',\n",
              " 'rosé',\n",
              " 'pinot noir',\n",
              " 'bordeaux-style red blend',\n",
              " 'pinot noir',\n",
              " 'white blend',\n",
              " 'rhône-style red blend',\n",
              " 'cabernet sauvignon',\n",
              " 'chardonnay',\n",
              " 'red blend',\n",
              " 'syrah',\n",
              " 'cabernet franc',\n",
              " 'chardonnay',\n",
              " 'tempranillo',\n",
              " 'bordeaux-style red blend',\n",
              " 'pinot noir',\n",
              " 'rosé',\n",
              " 'cabernet sauvignon',\n",
              " 'rhône-style red blend',\n",
              " 'cabernet sauvignon',\n",
              " 'syrah',\n",
              " 'pinot noir',\n",
              " 'chardonnay',\n",
              " 'chardonnay',\n",
              " 'pinot noir',\n",
              " 'tempranillo',\n",
              " 'cabernet sauvignon',\n",
              " 'pinot gris',\n",
              " 'sauvignon blanc',\n",
              " 'pinot noir',\n",
              " 'pinot noir',\n",
              " 'pinot noir',\n",
              " 'cabernet sauvignon',\n",
              " 'chardonnay',\n",
              " 'pinot noir',\n",
              " 'cabernet sauvignon',\n",
              " 'chardonnay',\n",
              " 'pinot noir',\n",
              " 'red blend',\n",
              " 'chardonnay',\n",
              " 'riesling',\n",
              " 'champagne blend',\n",
              " 'white blend',\n",
              " 'pinot noir',\n",
              " 'cabernet sauvignon',\n",
              " 'riesling',\n",
              " 'bordeaux-style red blend',\n",
              " 'chardonnay',\n",
              " 'pinot noir',\n",
              " 'bordeaux-style red blend',\n",
              " 'pinot noir',\n",
              " 'chardonnay',\n",
              " 'red blend',\n",
              " 'sauvignon blanc',\n",
              " 'bordeaux-style red blend',\n",
              " 'pinot noir',\n",
              " 'syrah',\n",
              " 'pinot noir',\n",
              " 'cabernet sauvignon',\n",
              " 'pinot noir',\n",
              " 'cabernet sauvignon',\n",
              " 'red blend',\n",
              " 'pinot noir',\n",
              " 'chardonnay',\n",
              " 'rosé',\n",
              " 'pinot noir',\n",
              " 'nebbiolo',\n",
              " 'malbec',\n",
              " 'riesling',\n",
              " 'rosé',\n",
              " 'chardonnay',\n",
              " 'merlot',\n",
              " 'sparkling blend',\n",
              " 'chardonnay',\n",
              " 'chardonnay',\n",
              " 'cabernet sauvignon',\n",
              " 'red blend',\n",
              " 'pinot noir',\n",
              " 'bordeaux-style red blend',\n",
              " 'rosé',\n",
              " 'pinot noir',\n",
              " 'red blend',\n",
              " 'chardonnay',\n",
              " 'rhône-style red blend',\n",
              " 'cabernet sauvignon',\n",
              " 'sparkling blend',\n",
              " 'pinot noir',\n",
              " 'merlot',\n",
              " 'chardonnay',\n",
              " 'cabernet sauvignon',\n",
              " 'pinot noir',\n",
              " 'sauvignon blanc',\n",
              " 'bordeaux-style red blend',\n",
              " 'chardonnay',\n",
              " 'red blend',\n",
              " 'white blend',\n",
              " 'bordeaux-style red blend',\n",
              " 'cabernet sauvignon',\n",
              " 'pinot noir',\n",
              " 'riesling',\n",
              " 'bordeaux-style white blend',\n",
              " 'chardonnay',\n",
              " 'cabernet sauvignon',\n",
              " 'pinot noir',\n",
              " 'bordeaux-style red blend',\n",
              " 'cabernet sauvignon',\n",
              " 'red blend',\n",
              " 'red blend',\n",
              " 'sauvignon blanc',\n",
              " 'merlot',\n",
              " 'sauvignon blanc',\n",
              " 'bordeaux-style red blend',\n",
              " 'chardonnay',\n",
              " 'white blend',\n",
              " 'malbec',\n",
              " 'cabernet sauvignon',\n",
              " 'chardonnay',\n",
              " 'chardonnay',\n",
              " 'cabernet sauvignon',\n",
              " 'pinot noir',\n",
              " 'bordeaux-style red blend',\n",
              " 'chardonnay',\n",
              " 'cabernet sauvignon',\n",
              " 'bordeaux-style red blend',\n",
              " 'nebbiolo',\n",
              " 'red blend',\n",
              " 'pinot noir',\n",
              " 'pinot noir',\n",
              " 'chardonnay',\n",
              " 'bordeaux-style red blend',\n",
              " 'bordeaux-style red blend',\n",
              " 'bordeaux-style red blend',\n",
              " 'grüner veltliner',\n",
              " 'cabernet sauvignon',\n",
              " 'bordeaux-style red blend',\n",
              " 'cabernet sauvignon',\n",
              " 'syrah',\n",
              " 'zinfandel',\n",
              " 'rosé',\n",
              " 'sauvignon blanc',\n",
              " 'pinot noir',\n",
              " 'pinot noir',\n",
              " 'chardonnay',\n",
              " 'chardonnay',\n",
              " 'pinot noir',\n",
              " 'pinot noir',\n",
              " 'sangiovese',\n",
              " 'chardonnay',\n",
              " 'rosé',\n",
              " 'white blend',\n",
              " 'pinot noir',\n",
              " 'cabernet franc',\n",
              " 'chardonnay',\n",
              " 'tempranillo',\n",
              " 'chardonnay',\n",
              " 'pinot noir',\n",
              " 'pinot noir',\n",
              " 'portuguese red',\n",
              " 'bordeaux-style red blend',\n",
              " 'cabernet sauvignon',\n",
              " 'pinot noir',\n",
              " 'bordeaux-style red blend',\n",
              " 'malbec',\n",
              " 'red blend',\n",
              " 'pinot noir',\n",
              " 'red blend',\n",
              " 'grüner veltliner',\n",
              " 'pinot noir',\n",
              " 'bordeaux-style red blend',\n",
              " 'chardonnay',\n",
              " 'pinot gris',\n",
              " 'sparkling blend',\n",
              " 'red blend',\n",
              " 'chardonnay',\n",
              " 'sparkling blend',\n",
              " 'bordeaux-style red blend',\n",
              " 'chardonnay',\n",
              " 'red blend',\n",
              " 'cabernet sauvignon',\n",
              " 'riesling',\n",
              " 'gewürztraminer',\n",
              " 'bordeaux-style red blend',\n",
              " 'bordeaux-style red blend',\n",
              " 'chardonnay',\n",
              " 'pinot noir',\n",
              " 'pinot noir',\n",
              " 'pinot noir',\n",
              " 'chardonnay',\n",
              " 'nebbiolo',\n",
              " 'pinot noir',\n",
              " 'red blend',\n",
              " 'pinot noir',\n",
              " 'pinot noir',\n",
              " 'red blend',\n",
              " 'pinot noir',\n",
              " 'bordeaux-style red blend',\n",
              " 'cabernet sauvignon',\n",
              " 'pinot noir',\n",
              " 'red blend',\n",
              " 'chardonnay',\n",
              " 'red blend',\n",
              " 'rhône-style red blend',\n",
              " 'riesling',\n",
              " 'bordeaux-style red blend',\n",
              " 'chardonnay',\n",
              " 'chardonnay',\n",
              " 'zinfandel',\n",
              " 'pinot noir',\n",
              " 'chardonnay',\n",
              " 'sauvignon blanc',\n",
              " 'red blend',\n",
              " 'chardonnay',\n",
              " 'pinot noir',\n",
              " 'pinot noir',\n",
              " 'bordeaux-style red blend',\n",
              " 'pinot noir',\n",
              " 'bordeaux-style red blend',\n",
              " 'malbec',\n",
              " 'chardonnay',\n",
              " 'rosé',\n",
              " 'pinot noir',\n",
              " 'pinot noir',\n",
              " 'pinot noir',\n",
              " 'pinot noir',\n",
              " 'portuguese white',\n",
              " 'bordeaux-style red blend',\n",
              " 'chardonnay',\n",
              " 'malbec',\n",
              " 'white blend',\n",
              " 'pinot noir',\n",
              " 'bordeaux-style red blend',\n",
              " 'portuguese red',\n",
              " 'bordeaux-style red blend',\n",
              " 'bordeaux-style red blend',\n",
              " 'pinot noir',\n",
              " 'cabernet sauvignon',\n",
              " 'red blend',\n",
              " 'pinot noir',\n",
              " 'red blend',\n",
              " 'cabernet sauvignon',\n",
              " 'pinot noir',\n",
              " 'bordeaux-style red blend',\n",
              " 'chardonnay',\n",
              " 'pinot noir',\n",
              " 'bordeaux-style red blend',\n",
              " 'bordeaux-style red blend',\n",
              " 'cabernet sauvignon',\n",
              " 'red blend',\n",
              " 'chardonnay',\n",
              " 'cabernet sauvignon',\n",
              " 'pinot noir',\n",
              " 'pinot noir',\n",
              " 'pinot noir',\n",
              " 'sauvignon blanc',\n",
              " 'bordeaux-style red blend',\n",
              " 'cabernet sauvignon',\n",
              " 'chardonnay',\n",
              " 'cabernet sauvignon',\n",
              " 'cabernet sauvignon',\n",
              " 'syrah',\n",
              " 'bordeaux-style red blend',\n",
              " 'chardonnay',\n",
              " 'pinot noir',\n",
              " 'bordeaux-style red blend',\n",
              " 'bordeaux-style red blend',\n",
              " 'cabernet sauvignon',\n",
              " 'pinot noir',\n",
              " 'pinot noir',\n",
              " 'zinfandel',\n",
              " 'cabernet sauvignon',\n",
              " 'pinot noir',\n",
              " 'gewürztraminer',\n",
              " 'red blend',\n",
              " 'chardonnay',\n",
              " 'chardonnay',\n",
              " 'pinot noir',\n",
              " 'white blend',\n",
              " 'bordeaux-style red blend',\n",
              " 'bordeaux-style red blend',\n",
              " 'bordeaux-style red blend',\n",
              " 'riesling',\n",
              " 'bordeaux-style red blend',\n",
              " 'red blend',\n",
              " 'sparkling blend',\n",
              " 'sauvignon blanc',\n",
              " 'cabernet sauvignon',\n",
              " 'white blend',\n",
              " 'sauvignon blanc',\n",
              " 'chardonnay',\n",
              " 'sauvignon blanc',\n",
              " 'pinot noir',\n",
              " 'cabernet sauvignon',\n",
              " 'pinot noir',\n",
              " 'pinot noir',\n",
              " 'syrah',\n",
              " 'chardonnay',\n",
              " 'cabernet sauvignon',\n",
              " 'chardonnay',\n",
              " 'pinot noir',\n",
              " 'bordeaux-style red blend',\n",
              " 'malbec',\n",
              " 'syrah',\n",
              " 'cabernet sauvignon',\n",
              " 'red blend',\n",
              " 'bordeaux-style red blend',\n",
              " 'pinot noir',\n",
              " 'bordeaux-style white blend',\n",
              " 'nebbiolo',\n",
              " 'chardonnay',\n",
              " 'bordeaux-style red blend',\n",
              " 'cabernet franc',\n",
              " 'bordeaux-style red blend',\n",
              " 'pinot noir',\n",
              " 'nebbiolo',\n",
              " 'malbec',\n",
              " 'pinot noir',\n",
              " 'sauvignon blanc',\n",
              " 'pinot noir',\n",
              " 'rosé',\n",
              " 'cabernet sauvignon',\n",
              " 'sangiovese',\n",
              " 'cabernet sauvignon',\n",
              " 'pinot noir',\n",
              " 'pinot noir',\n",
              " 'bordeaux-style red blend',\n",
              " 'merlot',\n",
              " 'red blend',\n",
              " 'chardonnay',\n",
              " 'chardonnay',\n",
              " 'chardonnay',\n",
              " 'rosé',\n",
              " 'champagne blend',\n",
              " 'red blend',\n",
              " 'rhône-style red blend',\n",
              " 'bordeaux-style red blend',\n",
              " 'bordeaux-style red blend',\n",
              " 'bordeaux-style red blend',\n",
              " 'syrah',\n",
              " 'sangiovese',\n",
              " 'chardonnay',\n",
              " 'cabernet sauvignon',\n",
              " 'pinot noir',\n",
              " 'cabernet sauvignon',\n",
              " 'chardonnay',\n",
              " 'merlot',\n",
              " 'pinot noir',\n",
              " 'chardonnay',\n",
              " 'sauvignon blanc',\n",
              " 'cabernet sauvignon',\n",
              " 'pinot noir',\n",
              " 'red blend',\n",
              " 'red blend',\n",
              " 'bordeaux-style red blend',\n",
              " 'cabernet sauvignon',\n",
              " 'pinot noir',\n",
              " 'bordeaux-style red blend',\n",
              " 'riesling',\n",
              " 'pinot noir',\n",
              " 'bordeaux-style red blend',\n",
              " 'white blend',\n",
              " 'merlot',\n",
              " 'red blend',\n",
              " 'riesling',\n",
              " 'bordeaux-style red blend',\n",
              " 'white blend',\n",
              " 'malbec',\n",
              " 'chardonnay',\n",
              " 'bordeaux-style red blend',\n",
              " 'pinot noir',\n",
              " 'rosé',\n",
              " 'nebbiolo',\n",
              " 'nebbiolo',\n",
              " 'red blend',\n",
              " 'pinot noir',\n",
              " 'syrah',\n",
              " 'riesling',\n",
              " 'rosé',\n",
              " 'bordeaux-style red blend',\n",
              " 'champagne blend',\n",
              " 'pinot noir',\n",
              " 'tempranillo',\n",
              " 'chardonnay',\n",
              " 'rosé',\n",
              " 'grüner veltliner',\n",
              " 'champagne blend',\n",
              " 'white blend',\n",
              " 'cabernet sauvignon',\n",
              " 'bordeaux-style red blend',\n",
              " 'pinot noir',\n",
              " 'pinot noir',\n",
              " 'chardonnay',\n",
              " 'nebbiolo',\n",
              " 'cabernet sauvignon',\n",
              " 'syrah',\n",
              " 'red blend',\n",
              " ...]"
            ]
          },
          "metadata": {
            "tags": []
          },
          "execution_count": 37
        }
      ]
    },
    {
      "cell_type": "code",
      "metadata": {
        "id": "0HUwla0rtWrT",
        "colab_type": "code",
        "colab": {}
      },
      "source": [
        "df_test['variety__predicted'] = variety"
      ],
      "execution_count": 0,
      "outputs": []
    },
    {
      "cell_type": "code",
      "metadata": {
        "id": "D6TvMfVjviKY",
        "colab_type": "code",
        "colab": {
          "base_uri": "https://localhost:8080/",
          "height": 521
        },
        "outputId": "b2f33fde-8c81-4f66-bccd-458cfc770ac5"
      },
      "source": [
        "df_test.head()"
      ],
      "execution_count": 39,
      "outputs": [
        {
          "output_type": "execute_result",
          "data": {
            "text/html": [
              "<div>\n",
              "<style scoped>\n",
              "    .dataframe tbody tr th:only-of-type {\n",
              "        vertical-align: middle;\n",
              "    }\n",
              "\n",
              "    .dataframe tbody tr th {\n",
              "        vertical-align: top;\n",
              "    }\n",
              "\n",
              "    .dataframe thead th {\n",
              "        text-align: right;\n",
              "    }\n",
              "</style>\n",
              "<table border=\"1\" class=\"dataframe\">\n",
              "  <thead>\n",
              "    <tr style=\"text-align: right;\">\n",
              "      <th></th>\n",
              "      <th>user_name</th>\n",
              "      <th>country</th>\n",
              "      <th>review_title</th>\n",
              "      <th>review_description</th>\n",
              "      <th>designation</th>\n",
              "      <th>points</th>\n",
              "      <th>price</th>\n",
              "      <th>province</th>\n",
              "      <th>region_1</th>\n",
              "      <th>region_2</th>\n",
              "      <th>winery</th>\n",
              "      <th>variety__predicted</th>\n",
              "    </tr>\n",
              "  </thead>\n",
              "  <tbody>\n",
              "    <tr>\n",
              "      <th>0</th>\n",
              "      <td>@paulgwine</td>\n",
              "      <td>US</td>\n",
              "      <td>Boedecker Cellars 2011 Athena Pinot Noir (Will...</td>\n",
              "      <td>Nicely differentiated from the companion Stewa...</td>\n",
              "      <td>Athena</td>\n",
              "      <td>88</td>\n",
              "      <td>35.0</td>\n",
              "      <td>Oregon</td>\n",
              "      <td>Willamette Valley</td>\n",
              "      <td>Willamette Valley</td>\n",
              "      <td>Boedecker Cellars</td>\n",
              "      <td>pinot noir</td>\n",
              "    </tr>\n",
              "    <tr>\n",
              "      <th>1</th>\n",
              "      <td>@wineschach</td>\n",
              "      <td>Argentina</td>\n",
              "      <td>Mendoza Vineyards 2012 Gran Reserva by Richard...</td>\n",
              "      <td>Charred, smoky, herbal aromas of blackberry tr...</td>\n",
              "      <td>Gran Reserva by Richard Bonvin</td>\n",
              "      <td>90</td>\n",
              "      <td>60.0</td>\n",
              "      <td>Mendoza Province</td>\n",
              "      <td>Mendoza</td>\n",
              "      <td>NaN</td>\n",
              "      <td>Mendoza Vineyards</td>\n",
              "      <td>malbec</td>\n",
              "    </tr>\n",
              "    <tr>\n",
              "      <th>2</th>\n",
              "      <td>@vboone</td>\n",
              "      <td>US</td>\n",
              "      <td>Prime 2013 Chardonnay (Coombsville)</td>\n",
              "      <td>Slightly sour and funky in earth, this is a re...</td>\n",
              "      <td>NaN</td>\n",
              "      <td>87</td>\n",
              "      <td>38.0</td>\n",
              "      <td>California</td>\n",
              "      <td>Coombsville</td>\n",
              "      <td>Napa</td>\n",
              "      <td>Prime</td>\n",
              "      <td>chardonnay</td>\n",
              "    </tr>\n",
              "    <tr>\n",
              "      <th>3</th>\n",
              "      <td>@wineschach</td>\n",
              "      <td>Argentina</td>\n",
              "      <td>Bodega Cuarto Dominio 2012 Chento Vineyard Sel...</td>\n",
              "      <td>This concentrated, midnight-black Malbec deliv...</td>\n",
              "      <td>Chento Vineyard Selection</td>\n",
              "      <td>91</td>\n",
              "      <td>20.0</td>\n",
              "      <td>Mendoza Province</td>\n",
              "      <td>Mendoza</td>\n",
              "      <td>NaN</td>\n",
              "      <td>Bodega Cuarto Dominio</td>\n",
              "      <td>malbec</td>\n",
              "    </tr>\n",
              "    <tr>\n",
              "      <th>4</th>\n",
              "      <td>@kerinokeefe</td>\n",
              "      <td>Italy</td>\n",
              "      <td>SassodiSole 2012  Brunello di Montalcino</td>\n",
              "      <td>Earthy aromas suggesting grilled porcini, leat...</td>\n",
              "      <td>NaN</td>\n",
              "      <td>90</td>\n",
              "      <td>49.0</td>\n",
              "      <td>Tuscany</td>\n",
              "      <td>Brunello di Montalcino</td>\n",
              "      <td>NaN</td>\n",
              "      <td>SassodiSole</td>\n",
              "      <td>sangiovese</td>\n",
              "    </tr>\n",
              "  </tbody>\n",
              "</table>\n",
              "</div>"
            ],
            "text/plain": [
              "      user_name    country  ...                 winery variety__predicted\n",
              "0   @paulgwine          US  ...      Boedecker Cellars         pinot noir\n",
              "1   @wineschach  Argentina  ...      Mendoza Vineyards             malbec\n",
              "2       @vboone         US  ...                  Prime         chardonnay\n",
              "3   @wineschach  Argentina  ...  Bodega Cuarto Dominio             malbec\n",
              "4  @kerinokeefe      Italy  ...            SassodiSole         sangiovese\n",
              "\n",
              "[5 rows x 12 columns]"
            ]
          },
          "metadata": {
            "tags": []
          },
          "execution_count": 39
        }
      ]
    },
    {
      "cell_type": "markdown",
      "metadata": {
        "id": "cVvpAUhsOZxX",
        "colab_type": "text"
      },
      "source": [
        "# Saving the data into a csv file"
      ]
    },
    {
      "cell_type": "code",
      "metadata": {
        "id": "e1G5w18Gvkat",
        "colab_type": "code",
        "colab": {}
      },
      "source": [
        "df_test.to_csv('variety predictions.csv')"
      ],
      "execution_count": 0,
      "outputs": []
    },
    {
      "cell_type": "code",
      "metadata": {
        "id": "TcfRmgjmwHQs",
        "colab_type": "code",
        "colab": {}
      },
      "source": [
        ""
      ],
      "execution_count": 0,
      "outputs": []
    }
  ]
}